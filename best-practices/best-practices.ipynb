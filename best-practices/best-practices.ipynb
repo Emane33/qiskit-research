{
 "cells": [
  {
   "cell_type": "markdown",
   "id": "f2ea03fa",
   "metadata": {},
   "source": [
    "## Prerequisites"
   ]
  },
  {
   "cell_type": "markdown",
   "id": "176fb596",
   "metadata": {},
   "source": [
    "### Load Qiskit and Required Libraries"
   ]
  },
  {
   "cell_type": "code",
   "execution_count": 1,
   "id": "072ce233",
   "metadata": {},
   "outputs": [],
   "source": [
    "from qiskit import IBMQ, transpile, schedule, pulse\n",
    "from qiskit.circuit import Parameter, QuantumCircuit, QuantumRegister, ClassicalRegister\n",
    "from qiskit.circuit.library import IGate, XGate, YGate, ZGate\n",
    "from qiskit.pulse import DriveChannel\n",
    "import qiskit.quantum_info as qi\n",
    "\n",
    "from qiskit.transpiler import PassManager, InstructionDurations\n",
    "from qiskit.transpiler.passes import TemplateOptimization, ALAPSchedule, DynamicalDecoupling\n",
    "from qiskit.transpiler.passes.calibration import RZXCalibrationBuilder, rzx_templates\n",
    "\n",
    "from qiskit.opflow import I, X, Y, Z\n",
    "\n",
    "from qiskit.scheduler.config import ScheduleConfig\n",
    "from qiskit.visualization import plot_circuit_layout, plot_error_map, timeline_drawer\n",
    "\n",
    "from copy import deepcopy\n",
    "import numpy as np\n",
    "import scipy.linalg as lng\n",
    "import matplotlib.pyplot as plt\n",
    "plt.style.use('dark_background')\n",
    "plt.rcParams['figure.figsize'] = [5, 5]"
   ]
  },
  {
   "cell_type": "markdown",
   "id": "c83ee1b4",
   "metadata": {},
   "source": [
    "### Load IBM Quantum Account"
   ]
  },
  {
   "cell_type": "code",
   "execution_count": 2,
   "id": "e55ef1a6",
   "metadata": {},
   "outputs": [],
   "source": [
    "IBMQ.load_account()\n",
    "provider = IBMQ.get_provider(hub='ibm-q-internal', group='mission-critical', project='bronn')\n",
    "backend = provider.get_backend('ibm_lagos')"
   ]
  },
  {
   "cell_type": "markdown",
   "id": "4dad1072",
   "metadata": {},
   "source": [
    "### Load Backend Information (for Pulse Scaling)"
   ]
  },
  {
   "cell_type": "code",
   "execution_count": 3,
   "id": "f17379f0",
   "metadata": {},
   "outputs": [],
   "source": [
    "backend_config = backend.configuration()\n",
    "#dt = backend_config.dt\n",
    "#meas_map = backend_config.meas_map\n",
    "\n",
    "backend_defaults = backend.defaults()\n",
    "inst_sched_map = backend_defaults.instruction_schedule_map\n",
    "\n",
    "#sched_config = ScheduleConfig(inst_sched_map, meas_map, dt)"
   ]
  },
  {
   "cell_type": "markdown",
   "id": "e3b41ea4",
   "metadata": {},
   "source": [
    "# Construct Circuit"
   ]
  },
  {
   "cell_type": "markdown",
   "id": "908fc554",
   "metadata": {},
   "source": [
    "## Say Ising-type Circuit "
   ]
  },
  {
   "cell_type": "code",
   "execution_count": 4,
   "id": "5c39fb3f",
   "metadata": {},
   "outputs": [
    {
     "data": {
      "image/png": "[encoded data removed]",
      "text/plain": [
       "<Figure size 507.997x204.68 with 1 Axes>"
      ]
     },
     "execution_count": 4,
     "metadata": {},
     "output_type": "execute_result"
    }
   ],
   "source": [
    "JJ = Parameter('$J$') # exchange coupling strength\n",
    "hh = Parameter('$h$') # transverse magnetic field\n",
    "dt = Parameter('$dt$') # Trotter step size\n",
    "TT = Parameter('$T$') # total time\n",
    "\n",
    "qc = QuantumCircuit(3)\n",
    "qc.cx(0, 1)\n",
    "qc.rz(-2*JJ*dt, 1)\n",
    "qc.cx(0, 1)\n",
    "qc.rx(2*hh*dt, [0, 1, 2])\n",
    "qc.cx(1, 2)\n",
    "qc.rz(-2*JJ*dt, 2)\n",
    "qc.cx(1, 2)\n",
    "qc.draw(output='mpl')"
   ]
  },
  {
   "cell_type": "markdown",
   "id": "a2336d90",
   "metadata": {},
   "source": [
    "# Map Abstract Circuit to Physical Layout: VF2Layout"
   ]
  },
  {
   "cell_type": "markdown",
   "id": "e602be4f",
   "metadata": {},
   "source": [
    "This uses a very fast classical algorithm for the subgraph isomorphism problem to find an optimal layout (when coupled with the following code that optimizes based on a *useful* device error metric)."
   ]
  },
  {
   "cell_type": "code",
   "execution_count": 5,
   "id": "bd6d5bc2",
   "metadata": {},
   "outputs": [],
   "source": [
    "from qiskit.transpiler import CouplingMap\n",
    "from qiskit.transpiler.passes import VF2Layout, CSPLayout # VF2Layout only in current dev branch"
   ]
  },
  {
   "cell_type": "markdown",
   "id": "f9dc465c",
   "metadata": {},
   "source": [
    "## Find best layout based on readout error"
   ]
  },
  {
   "cell_type": "code",
   "execution_count": 6,
   "id": "2e43b4d2",
   "metadata": {},
   "outputs": [
    {
     "data": {
      "image/png": "[encoded data removed]",
      "text/plain": [
       "<Figure size 360x360 with 1 Axes>"
      ]
     },
     "execution_count": 6,
     "metadata": {},
     "output_type": "execute_result"
    }
   ],
   "source": [
    "cm = backend_config.coupling_map\n",
    "vf2_pass = VF2Layout(CouplingMap(cm), properties=backend.properties()) # this is stupid, only uses readout error\n",
    "vf2_transpiled = vf2_pass(qc)\n",
    "plot_circuit_layout(vf2_transpiled, backend, view='physical')"
   ]
  },
  {
   "cell_type": "code",
   "execution_count": 7,
   "id": "d498343e",
   "metadata": {},
   "outputs": [],
   "source": [
    "# this should probably be a method in Qiskit\n",
    "# probably need to address the name of the QuantumRegister\n",
    "from qiskit.circuit import Qubit, QuantumRegister\n",
    "\n",
    "def get_mapped_layout(qc, qc_t):\n",
    "    mapped_layout = []\n",
    "    for qidx in range(qc.num_qubits):\n",
    "        mapped_layout.append(qc_t._layout.get_virtual_bits()[Qubit(QuantumRegister(qc.num_qubits, 'q'), qidx)])\n",
    "        \n",
    "    return mapped_layout"
   ]
  },
  {
   "cell_type": "markdown",
   "id": "941473d7",
   "metadata": {},
   "source": [
    "## Get best layout based on CNOT error"
   ]
  },
  {
   "cell_type": "code",
   "execution_count": 9,
   "id": "35f3ece7",
   "metadata": {},
   "outputs": [
    {
     "name": "stdout",
     "output_type": "stream",
     "text": [
      "Seed 0: Avg 2-qubit gate error is 0.00815836612674413\n",
      "[2, 1, 0]\n"
     ]
    },
    {
     "data": {
      "image/png": "[encoded data removed]",
      "text/plain": [
       "<Figure size 360x360 with 1 Axes>"
      ]
     },
     "execution_count": 9,
     "metadata": {},
     "output_type": "execute_result"
    }
   ],
   "source": [
    "lowest_error = 1\n",
    "best_qc_t = qc\n",
    "for seed in range(1000):\n",
    "    vf2_pass = VF2Layout(CouplingMap(cm), seed=seed)\n",
    "    vf2_transpiled = vf2_pass(qc)\n",
    "    mapped_layout = get_mapped_layout(qc, vf2_transpiled)\n",
    "    avg_gate_error = 0\n",
    "    for ii in range(len(mapped_layout)-1):\n",
    "        q0 = mapped_layout[ii]\n",
    "        q1 = mapped_layout[ii+1]\n",
    "        avg_gate_error += backend.properties().gate_property('cx')[(q0, q1)]['gate_error'][0]\n",
    "\n",
    "    avg_gate_error /= len(mapped_layout)-1\n",
    "    if avg_gate_error < lowest_error:\n",
    "        lowest_error = avg_gate_error\n",
    "        best_qc_t = vf2_transpiled\n",
    "        print('Seed '+str(seed)+': Avg 2-qubit gate error is '+str(avg_gate_error))\n",
    "        \n",
    "print(get_mapped_layout(qc, best_qc_t))\n",
    "plot_circuit_layout(best_qc_t, backend, view='physical')"
   ]
  },
  {
   "cell_type": "markdown",
   "id": "9082a3b1",
   "metadata": {},
   "source": [
    "## Get best layout based on $T_1$ (or $T_2$)"
   ]
  },
  {
   "cell_type": "code",
   "execution_count": 12,
   "id": "5e1d5371",
   "metadata": {},
   "outputs": [
    {
     "name": "stdout",
     "output_type": "stream",
     "text": [
      "Seed 0: Avg coherence is 117 us\n",
      "[2, 1, 0]\n"
     ]
    },
    {
     "data": {
      "image/png": "[encoded data removed]",
      "text/plain": [
       "<Figure size 360x360 with 1 Axes>"
      ]
     },
     "execution_count": 12,
     "metadata": {},
     "output_type": "execute_result"
    }
   ],
   "source": [
    "coho = 'T1' # or 'T2'\n",
    "highest_coho = 0\n",
    "best_qc_t = qc\n",
    "for seed in range(1000): # excessive\n",
    "    vf2_pass = VF2Layout(CouplingMap(cm), seed=seed)\n",
    "    vf2_transpiled = vf2_pass(qc)\n",
    "    mapped_layout = get_mapped_layout(qc, vf2_transpiled)\n",
    "    avg_coho = 0\n",
    "    for qubit in mapped_layout:\n",
    "        avg_coho += backend.properties().qubit_property(qubit)[coho][0]*1e6 # us\n",
    "\n",
    "    avg_coho /= len(mapped_layout)\n",
    "    if avg_coho > highest_coho:\n",
    "        highest_coho = avg_coho\n",
    "        best_qc_t = vf2_transpiled\n",
    "        print('Seed '+str(seed)+': Avg coherence is %.0f us' % avg_coho)\n",
    "        \n",
    "print(get_mapped_layout(qc, best_qc_t))\n",
    "plot_circuit_layout(best_qc_t, backend, view='physical')"
   ]
  },
  {
   "cell_type": "code",
   "execution_count": 13,
   "id": "180dcf70",
   "metadata": {},
   "outputs": [],
   "source": [
    "# we should be able to just use the transpiled circuit\n",
    "# instead of explicitly asking for the layout\n",
    "initial_layout = get_mapped_layout(qc, best_qc_t)"
   ]
  },
  {
   "cell_type": "markdown",
   "id": "3b73af9b",
   "metadata": {},
   "source": [
    "# Pulse Scaling\n",
    "\n",
    "Of course this won't work with unbound `Parameter`s until Nick's Terra [PR #6899](https://github.com/Qiskit/qiskit-terra/pull/6899) is merged."
   ]
  },
  {
   "cell_type": "code",
   "execution_count": 14,
   "id": "62f131d3",
   "metadata": {},
   "outputs": [],
   "source": [
    "pass_ = TemplateOptimization(**rzx_templates.rzx_templates()) \n",
    "scaled_qc_t = PassManager(pass_).run(best_qc_t)"
   ]
  },
  {
   "cell_type": "code",
   "execution_count": 17,
   "id": "4ebf08d4",
   "metadata": {
    "scrolled": true
   },
   "outputs": [
    {
     "data": {
      "image/png": "[encoded data removed]",
      "text/plain": [
       "<Figure size 1049.8x204.68 with 1 Axes>"
      ]
     },
     "execution_count": 17,
     "metadata": {},
     "output_type": "execute_result"
    }
   ],
   "source": [
    "scaled_qc_t.draw(output='mpl', idle_wires=False)"
   ]
  },
  {
   "cell_type": "markdown",
   "id": "c4678305",
   "metadata": {},
   "source": [
    "## Template Optimization Issue\n",
    "\n",
    "Some of these Pulse scaling procedures fail due to Terra Issue [#6974](https://github.com/Qiskit/qiskit-terra/issues/6974), where Nick has the following workaround below. Additional transpilation steps may be necessary for combining consecutive gates that contain `Parameter`s, in which case Nick has code that does that or it has been fixed by Terra PR [#7309](https://github.com/Qiskit/qiskit-terra/pull/7309)."
   ]
  },
  {
   "cell_type": "markdown",
   "id": "3fa1dba9",
   "metadata": {},
   "source": [
    "## \"Forced\" CNOT-RZ-CNOT Optmization Workaround"
   ]
  },
  {
   "cell_type": "code",
   "execution_count": 14,
   "id": "504296e1",
   "metadata": {},
   "outputs": [],
   "source": [
    "from qiskit.dagcircuit import DAGCircuit, DAGNode, DAGOpNode\n",
    "\n",
    "def get_zz_temp_sub() -> QuantumCircuit:\n",
    "    rzx_dag = circuit_to_dag(deepcopy(rzx_templates.rzx_templates(['zz3'])['template_list'][0]))\n",
    "    temp_cx1_node = rzx_dag.front_layer()[0]\n",
    "    for gp in rzx_dag.bfs_successors(temp_cx1_node):\n",
    "        if gp[0] == temp_cx1_node:\n",
    "            if isinstance(gp[1][0].op, CXGate) and isinstance(gp[1][1].op, RZGate):\n",
    "                temp_rz_node = gp[1][1]\n",
    "                temp_cx2_node = gp[1][0]\n",
    "\n",
    "                rzx_dag.remove_op_node(temp_cx1_node)\n",
    "                rzx_dag.remove_op_node(temp_rz_node)\n",
    "                rzx_dag.remove_op_node(temp_cx2_node)\n",
    "    \n",
    "    return dag_to_circuit(rzx_dag).inverse()\n",
    "\n",
    "def sub_zz_in_dag(dag: DAGCircuit, cx1_node: DAGNode, rz_node: DAGNode, cx2_node: DAGNode) -> DAGCircuit:\n",
    "    zz_temp_sub = get_zz_temp_sub().assign_parameters({get_zz_temp_sub().parameters[0]: rz_node.op.params[0]})\n",
    "    dag.remove_op_node(rz_node)\n",
    "    dag.remove_op_node(cx2_node)\n",
    "    \n",
    "    qr = QuantumRegister(2, 'q')\n",
    "    mini_dag = DAGCircuit()\n",
    "    mini_dag.add_qreg(qr)\n",
    "    for idx, (instr, qargs, cargs) in enumerate(zz_temp_sub.data):\n",
    "        mini_dag.apply_operation_back(instr, qargs=qargs)\n",
    "\n",
    "    dag.substitute_node_with_dag(node=cx1_node, input_dag=mini_dag, wires=[qr[0], qr[1]])\n",
    "    return dag\n",
    "\n",
    "def forced_zz_temp_sub(dag: DAGCircuit) -> DAGCircuit:\n",
    "    cx_runs = dag.collect_runs('cx')\n",
    "    for run in cx_runs:\n",
    "        cx1_node = run[0]\n",
    "        gp = next(dag.bfs_successors(cx1_node))\n",
    "        if isinstance(gp[0].op, CXGate): # dunno why this is needed\n",
    "            if isinstance(gp[1][0], DAGOpNode) and isinstance(gp[1][1], DAGOpNode):\n",
    "                if isinstance(gp[1][0].op, CXGate) and isinstance(gp[1][1].op, RZGate):\n",
    "                    rz_node = gp[1][1]\n",
    "                    cx2_node = gp[1][0]\n",
    "                    gp1 = next(dag.bfs_successors(rz_node))\n",
    "                    if cx2_node in gp1[1]:\n",
    "                        if ((cx1_node.qargs[0].index == cx2_node.qargs[0].index) and\n",
    "                            (cx1_node.qargs[1].index == cx2_node.qargs[1].index) and\n",
    "                            (cx2_node.qargs[1].index == rz_node.qargs[0].index)):\n",
    "\n",
    "                            dag = sub_zz_in_dag(dag, cx1_node, rz_node, cx2_node)\n",
    "\n",
    "    return dag"
   ]
  },
  {
   "cell_type": "code",
   "execution_count": 15,
   "id": "d696a5ec",
   "metadata": {
    "scrolled": true
   },
   "outputs": [
    {
     "name": "stderr",
     "output_type": "stream",
     "text": [
      "<ipython-input-14-cc4195549a55>:44: DeprecationWarning: Back-references to from Bit instances to their containing Registers have been deprecated. Instead, inspect Registers to find their contained Bits.\n",
      "  if ((cx1_node.qargs[0].index == cx2_node.qargs[0].index) and\n",
      "<ipython-input-14-cc4195549a55>:45: DeprecationWarning: Back-references to from Bit instances to their containing Registers have been deprecated. Instead, inspect Registers to find their contained Bits.\n",
      "  (cx1_node.qargs[1].index == cx2_node.qargs[1].index) and\n",
      "<ipython-input-14-cc4195549a55>:46: DeprecationWarning: Back-references to from Bit instances to their containing Registers have been deprecated. Instead, inspect Registers to find their contained Bits.\n",
      "  (cx2_node.qargs[1].index == rz_node.qargs[0].index)):\n"
     ]
    },
    {
     "data": {
      "image/png": "[encoded data removed]",
      "text/plain": [
       "<Figure size 1147.93x204.68 with 1 Axes>"
      ]
     },
     "execution_count": 15,
     "metadata": {},
     "output_type": "execute_result"
    }
   ],
   "source": [
    "from qiskit.circuit.library import CXGate, RZGate\n",
    "from qiskit.converters import circuit_to_dag, dag_to_circuit\n",
    "\n",
    "scaled_qcs_t_f = []\n",
    "for circ in scaled_qcs_t:\n",
    "    dag = circuit_to_dag(circ)\n",
    "    dag = forced_zz_temp_sub(dag)\n",
    "    circ = dag_to_circuit(dag)\n",
    "    scaled_qcs_t_f.append(transpile(circ, backend, basis_gates=['sx', 'rz', 'rzx']))\n",
    "    #scaled_qcs_t_f.append(circ)\n",
    "\n",
    "scaled_qcs_t_f[2].draw(output='mpl', idle_wires=False)"
   ]
  },
  {
   "cell_type": "markdown",
   "id": "5201b9ab",
   "metadata": {},
   "source": [
    "Arghhh... this one still's not working!"
   ]
  },
  {
   "cell_type": "markdown",
   "id": "d2b123da",
   "metadata": {},
   "source": [
    "# Pauli Twirling"
   ]
  },
  {
   "cell_type": "markdown",
   "id": "2a9152ef",
   "metadata": {},
   "source": [
    "This should suppress dynamical $ZZ$ (based on transmon/CR physics). We will focus on the case with the $R_{ZZ}(\\theta)$ scaled cross resonance, in which elements from the set $\\mathbb{G} = \\{[I, I], [X, X], [Y, Y], [Z, Z]\\}$ are placed both before and after the $R_{ZZ}$ since the resulting operators commute. <br>\n",
    "\n",
    "~Nick thinks it should be easy to find a different set $\\mathbb{G}$ for the $R_{ZX}$ scaled pulses found from template optimization, then write a transpiler pass that generates a circuit sampled by each pair of Pauli's. In this case, we should actually implement Pauli twirling *after* Pulse scaling.~ This is done now below. <br>\n",
    "\n",
    "Someone [thought about this](https://github.com/Qiskit/qiskit-experiments/issues/482) for Qiskit Experiments, but apparently not too long."
   ]
  },
  {
   "cell_type": "markdown",
   "id": "f8f7e20e",
   "metadata": {},
   "source": [
    "## Convert Twirl Gates to $R_{ZX}$"
   ]
  },
  {
   "cell_type": "code",
   "execution_count": 28,
   "id": "1d876207",
   "metadata": {},
   "outputs": [
    {
     "name": "stdout",
     "output_type": "stream",
     "text": [
      "True\n",
      "True\n",
      "True\n",
      "True\n"
     ]
    }
   ],
   "source": [
    "# sanity to make sure we converted valid twirls\n",
    "twirl_op = Z^X\n",
    "\n",
    "twirls = [I^I, X^Z, Y^Y, Z^X]\n",
    "for twirl in twirls:\n",
    "    print((twirl @ twirl_op @ twirl) == twirl_op)"
   ]
  },
  {
   "cell_type": "code",
   "execution_count": null,
   "id": "835488dd",
   "metadata": {},
   "outputs": [],
   "source": [
    "twirl_gates = [[IGate(), IGate()],\n",
    "               [XGate(), ZGate()],\n",
    "               [YGate(), YGate()],\n",
    "               [ZGate(), XGate()]]"
   ]
  },
  {
   "cell_type": "markdown",
   "id": "815e837c",
   "metadata": {},
   "source": [
    "## Convert Circuits to DAGs for Transpilation"
   ]
  },
  {
   "cell_type": "code",
   "execution_count": null,
   "id": "d5db8235",
   "metadata": {},
   "outputs": [],
   "source": [
    "dag = circuit_to_dag(scaled_qcs_t_f)\n",
    "dag_drawer(dag)"
   ]
  },
  {
   "cell_type": "markdown",
   "id": "19b6ea1b",
   "metadata": {},
   "source": [
    "## Twirl all $R_{ZX}$'s in DAG"
   ]
  },
  {
   "cell_type": "code",
   "execution_count": null,
   "id": "a0b6d07f",
   "metadata": {},
   "outputs": [],
   "source": [
    "def twirl_rzx_gates(dag: DAGCircuit) -> list:\n",
    "    twirled_dags = []\n",
    "    for twirls in twirl_gates:\n",
    "        this_dag = deepcopy(dag)\n",
    "        runs = this_dag.collect_runs(['rzx'])\n",
    "        for run in runs:\n",
    "            mini_dag = DAGCircuit()\n",
    "            p = QuantumRegister(2, 'p')\n",
    "            mini_dag.add_qreg(p)\n",
    "            mini_dag.apply_operation_back(twirls[0], qargs=[p[0]])\n",
    "            mini_dag.apply_operation_back(twirls[1], qargs=[p[1]])\n",
    "            mini_dag.apply_operation_back(run[0], qargs=[p[0], p[1]]) # this seems to work over using qargs\n",
    "            mini_dag.apply_operation_back(twirls[0], qargs=[p[0]])\n",
    "            mini_dag.apply_operation_back(twirls[1], qargs=[p[1]])\n",
    "\n",
    "            rzx_node = this_dag.op_nodes(op=RZXGate).pop()\n",
    "            this_dag.substitute_node_with_dag(node=rzx_node, input_dag=mini_dag, wires=[p[0], p[1]])\n",
    "\n",
    "        twirled_dags.append(deepcopy(this_dag))\n",
    "        \n",
    "    return twirled_dags"
   ]
  },
  {
   "cell_type": "code",
   "execution_count": null,
   "id": "4174ca46",
   "metadata": {},
   "outputs": [],
   "source": [
    "dags = twirl_rzx_gates(dag)\n",
    "dag_drawer(dags[1])"
   ]
  },
  {
   "cell_type": "markdown",
   "id": "ee0176c2",
   "metadata": {},
   "source": [
    "TODO: Check circuit equivalence for sanity."
   ]
  },
  {
   "cell_type": "markdown",
   "id": "dbf5bab9",
   "metadata": {},
   "source": [
    "# Add Final Circuit Info\n",
    "\n",
    "Currently we cannot really go past this in terms of leaving unbound `Parameter`s."
   ]
  },
  {
   "cell_type": "markdown",
   "id": "2aa92e6c",
   "metadata": {},
   "source": [
    "## Bind Parameters"
   ]
  },
  {
   "cell_type": "code",
   "execution_count": 16,
   "id": "4fdf8b35",
   "metadata": {},
   "outputs": [],
   "source": [
    "param_bind = {JJ: 0.5236, hh: 1, dt: 0.5}\n",
    "for circ in scaled_qcs_t_f:\n",
    "    circ.assign_parameters(param_bind, inplace=True)"
   ]
  },
  {
   "cell_type": "markdown",
   "id": "a2d8867a",
   "metadata": {},
   "source": [
    "## Add Calibrations for $R_{ZX}(\\theta)$"
   ]
  },
  {
   "cell_type": "code",
   "execution_count": 17,
   "id": "0ff3fe68",
   "metadata": {},
   "outputs": [],
   "source": [
    "pass_ = RZXCalibrationBuilder(backend)\n",
    "sca_circs_t = []\n",
    "for circ in scaled_qcs_t_f:\n",
    "    rzx_circ = PassManager(pass_).run(circ)\n",
    "    sca_circs_t.append(rzx_circ)"
   ]
  },
  {
   "cell_type": "code",
   "execution_count": 18,
   "id": "cac67ad3",
   "metadata": {},
   "outputs": [
    {
     "data": {
      "image/png": "[encoded data removed]",
      "text/plain": [
       "<Figure size 869.197x204.68 with 1 Axes>"
      ]
     },
     "execution_count": 18,
     "metadata": {},
     "output_type": "execute_result"
    }
   ],
   "source": [
    "sca_circs_t[-1].draw(output='mpl', idle_wires=False)"
   ]
  },
  {
   "cell_type": "markdown",
   "id": "e3223004",
   "metadata": {},
   "source": [
    "# Dynamical Decoupling"
   ]
  },
  {
   "cell_type": "markdown",
   "id": "5d5b337e",
   "metadata": {},
   "source": [
    "## Manually Load Timing Info\n",
    "\n",
    "Nick feels this should be done by Qiskit."
   ]
  },
  {
   "cell_type": "code",
   "execution_count": 19,
   "id": "4ada31b4",
   "metadata": {},
   "outputs": [],
   "source": [
    "inst_durs = []\n",
    "\n",
    "# single qubit gates\n",
    "for qubit in range(backend_config.num_qubits):\n",
    "    for inst_str in inst_sched_map.qubit_instructions(qubits=[qubit]):\n",
    "        inst = inst_sched_map.get(inst_str, qubits=[qubit])\n",
    "        inst_durs.append((inst_str, qubit, inst.duration))\n",
    "        if inst_str == 'x':\n",
    "            inst_durs.append(('y', qubit, inst.duration))\n",
    "\n",
    "# two qubit gates\n",
    "for qc in range(backend_config.num_qubits):\n",
    "    for qt in range(backend_config.num_qubits):\n",
    "        for inst_str in inst_sched_map.qubit_instructions(qubits=[qc, qt]):\n",
    "            inst = inst_sched_map.get(inst_str, qubits=[qc, qt])\n",
    "            inst_durs.append((inst_str, [qc, qt], inst.duration))\n",
    "\n",
    "durations = InstructionDurations(inst_durs)"
   ]
  },
  {
   "cell_type": "markdown",
   "id": "5b1f40d4",
   "metadata": {},
   "source": [
    "## Build DD Sequences\n",
    "\n",
    "This does not work for pulse gates, so Nick submitted Terra [PR #7463](https://github.com/Qiskit/qiskit-terra/pull/7463)."
   ]
  },
  {
   "cell_type": "markdown",
   "id": "a0fe9c7a",
   "metadata": {},
   "source": [
    "### Balanced X-X Sequence\n",
    "\n",
    "This is not even the $X_p-X_m$ we actually use for internal experiments."
   ]
  },
  {
   "cell_type": "code",
   "execution_count": 20,
   "id": "3dc6acc7",
   "metadata": {},
   "outputs": [],
   "source": [
    "dd_x2_sequence = [XGate(), XGate()]\n",
    "pm = PassManager([ALAPSchedule(durations),\n",
    "                  DynamicalDecoupling(durations, dd_x2_sequence)])\n",
    "sca_circs_t_ddx2 = pm.run(sca_circs_t)"
   ]
  },
  {
   "cell_type": "markdown",
   "id": "cb7b9d46",
   "metadata": {},
   "source": [
    "### XY4 Sequence"
   ]
  },
  {
   "cell_type": "code",
   "execution_count": 21,
   "id": "bac1d6f6",
   "metadata": {},
   "outputs": [],
   "source": [
    "dd_xy4_sequence = [XGate(), YGate(), XGate(), YGate()]\n",
    "pm = PassManager([ALAPSchedule(durations),\n",
    "                  DynamicalDecoupling(durations, dd_xy4_sequence)])\n",
    "sca_circs_t_ddxy4 = pm.run(sca_circs_t)"
   ]
  },
  {
   "cell_type": "markdown",
   "id": "1eb7f509",
   "metadata": {},
   "source": [
    "### XY8 Sequence"
   ]
  },
  {
   "cell_type": "code",
   "execution_count": 22,
   "id": "23616d46",
   "metadata": {},
   "outputs": [],
   "source": [
    "dd_xy8_sequence = [XGate(), YGate(), XGate(), YGate(), YGate(), XGate(), YGate(), XGate()]\n",
    "pm = PassManager([ALAPSchedule(durations),\n",
    "                  DynamicalDecoupling(durations, dd_xy8_sequence)])\n",
    "sca_circs_t_ddxy8 = pm.run(sca_circs_t)"
   ]
  },
  {
   "cell_type": "markdown",
   "id": "b9a8c380",
   "metadata": {},
   "source": [
    "### Draw Timeline with DD"
   ]
  },
  {
   "cell_type": "code",
   "execution_count": 23,
   "id": "2d1983c4",
   "metadata": {},
   "outputs": [
    {
     "data": {
      "image/png": "[encoded data removed]",
      "text/plain": [
       "<Figure size 1008x460.8 with 1 Axes>"
      ]
     },
     "execution_count": 23,
     "metadata": {},
     "output_type": "execute_result"
    }
   ],
   "source": [
    "timeline_drawer(sca_circs_t_ddxy8[-1])"
   ]
  },
  {
   "cell_type": "markdown",
   "id": "887a8eec",
   "metadata": {},
   "source": [
    "## `YGate`s Need Entry in `inst_sched_map`"
   ]
  },
  {
   "cell_type": "markdown",
   "id": "3cda3fb6",
   "metadata": {},
   "source": [
    "Nick feels this should not be necessary and raised Terra Issue [#7400](https://github.com/Qiskit/qiskit-terra/issues/7400)."
   ]
  },
  {
   "cell_type": "code",
   "execution_count": 24,
   "id": "cf9d2a6f",
   "metadata": {},
   "outputs": [],
   "source": [
    "for qubit in range(backend_config.num_qubits):\n",
    "    with pulse.build('y gate for qubit '+str(qubit)) as sched:\n",
    "        # def of YGate() in terms of XGate() and phase_offset\n",
    "        with pulse.phase_offset(np.pi/2, DriveChannel(qubit)): \n",
    "            x_gate = inst_sched_map.get('x', qubits=[qubit])\n",
    "            pulse.call(x_gate)\n",
    "\n",
    "        # for each DD sequence with a YGate() in it\n",
    "        for circ in sca_circs_t_ddxy4+sca_circs_t_ddxy8:\n",
    "            circ.add_calibration('y', [qubit], sched)"
   ]
  },
  {
   "cell_type": "code",
   "execution_count": null,
   "id": "0ad64ea4",
   "metadata": {},
   "outputs": [],
   "source": []
  },
  {
   "cell_type": "markdown",
   "id": "6292fc6a",
   "metadata": {},
   "source": [
    "# Zero Noise Extraplotaion\n",
    "\n",
    "Use [mitiq](https://mitiq.readthedocs.io/en/stable/guide/guide-zne.html) hahaha. <br>\n",
    "\n",
    "What are the applications folks using?"
   ]
  },
  {
   "cell_type": "code",
   "execution_count": null,
   "id": "95d690f9",
   "metadata": {},
   "outputs": [],
   "source": []
  },
  {
   "cell_type": "markdown",
   "id": "633698d0",
   "metadata": {},
   "source": [
    "# Measurement Error Mitigation\n",
    "\n",
    "Use [mthree](https://qiskit.org/documentation/partners/mthree/), matrix-free measurment mitigation."
   ]
  },
  {
   "cell_type": "code",
   "execution_count": null,
   "id": "7dcc1f8b",
   "metadata": {},
   "outputs": [],
   "source": []
  }
 ],
 "metadata": {
  "kernelspec": {
   "display_name": "qiskit (dev)",
   "language": "python",
   "name": "qiskit-dev"
  },
  "language_info": {
   "codemirror_mode": {
    "name": "ipython",
    "version": 3
   },
   "file_extension": ".py",
   "mimetype": "text/x-python",
   "name": "python",
   "nbconvert_exporter": "python",
   "pygments_lexer": "ipython3",
   "version": "3.9.4"
  },
  "toc": {
   "base_numbering": 1,
   "nav_menu": {},
   "number_sections": true,
   "sideBar": true,
   "skip_h1_title": false,
   "title_cell": "Table of Contents",
   "title_sidebar": "Contents",
   "toc_cell": false,
   "toc_position": {
    "height": "calc(100% - 180px)",
    "left": "10px",
    "top": "150px",
    "width": "288px"
   },
   "toc_section_display": true,
   "toc_window_display": true
  }
 },
 "nbformat": 4,
 "nbformat_minor": 5
}
