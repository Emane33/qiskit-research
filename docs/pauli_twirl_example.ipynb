{
 "cells": [
  {
   "cell_type": "code",
   "execution_count": 1,
   "id": "54f6c344",
   "metadata": {},
   "outputs": [],
   "source": [
    "from qiskit.circuit import Parameter, QuantumCircuit\n",
    "from qiskit.converters import circuit_to_dag\n",
    "from qiskit.test.mock import FakeMumbai\n",
    "from qiskit.visualization import dag_drawer"
   ]
  },
  {
   "cell_type": "code",
   "execution_count": 2,
   "id": "b23f7b05",
   "metadata": {},
   "outputs": [],
   "source": [
    "backend = FakeMumbai()"
   ]
  },
  {
   "cell_type": "code",
   "execution_count": 3,
   "id": "a51c59ee",
   "metadata": {},
   "outputs": [
    {
     "data": {
      "image/png": "[encoded data removed]",
      "text/plain": [
       "<Figure size 387.597x204.68 with 1 Axes>"
      ]
     },
     "execution_count": 3,
     "metadata": {},
     "output_type": "execute_result"
    }
   ],
   "source": [
    "# Latex-like symbols only supported by current versions of my PR 6899 (in template optimization)\n",
    "JJ = Parameter('$J$') # exchange coupling strength\n",
    "hh = Parameter('$h$') # transverse magnetic field\n",
    "dt = Parameter('$dt$') # Trotter step size\n",
    "TT = Parameter('$T$') # total time\n",
    "\n",
    "# use non-Latex-like Parameters when going off older commit mods-for-mzm-phase\n",
    "# JJ = Parameter('J') # exchange coupling strength\n",
    "# hh = Parameter('h') # transverse magnetic field\n",
    "# dt = Parameter('dt') # Trotter step size\n",
    "# TT = Parameter('T') # total time\n",
    "\n",
    "qc = QuantumCircuit(3)\n",
    "qc.h(1)\n",
    "qc.rzx(-2*JJ*dt, 0, 1)\n",
    "qc.h(1)\n",
    "qc.h(2)\n",
    "qc.rzx(-2*JJ*dt, 1, 2)\n",
    "qc.h(2)\n",
    "qc.draw(output='mpl')"
   ]
  },
  {
   "cell_type": "code",
   "execution_count": 4,
   "id": "d9569d0b",
   "metadata": {},
   "outputs": [],
   "source": [
    "from qiskit_research.utils.pauli_twirling import add_pauli_twirls\n",
    "twirled_circs = add_pauli_twirls(qc, backend, 'rzx', 10)"
   ]
  },
  {
   "cell_type": "code",
   "execution_count": 5,
   "id": "1004a644",
   "metadata": {
    "scrolled": true
   },
   "outputs": [
    {
     "data": {
      "image/png": "[encoded data removed]",
      "text/plain": [
       "<Figure size 808.997x204.68 with 1 Axes>"
      ]
     },
     "execution_count": 5,
     "metadata": {},
     "output_type": "execute_result"
    }
   ],
   "source": [
    "\n",
    "twirled_circs[-1][8].draw(output='mpl')"
   ]
  },
  {
   "cell_type": "code",
   "execution_count": 6,
   "id": "479624ec",
   "metadata": {},
   "outputs": [
    {
     "data": {
      "text/html": [
       "<h3>Version Information</h3><table><tr><th>Qiskit Software</th><th>Version</th></tr><tr><td><code>qiskit-terra</code></td><td>0.20.0.dev0+5de0384</td></tr><tr><td><code>qiskit-ibmq-provider</code></td><td>0.18.3</td></tr><tr><td><code>qiskit-nature</code></td><td>0.4.0</td></tr><tr><th>System information</th></tr><tr><td>Python version</td><td>3.9.10</td></tr><tr><td>Python compiler</td><td>Clang 11.1.0 </td></tr><tr><td>Python build</td><td>main, Feb  1 2022 21:27:48</td></tr><tr><td>OS</td><td>Darwin</td></tr><tr><td>CPUs</td><td>2</td></tr><tr><td>Memory (Gb)</td><td>16.0</td></tr><tr><td colspan='2'>Fri Mar 04 14:55:08 2022 EST</td></tr></table>"
      ],
      "text/plain": [
       "<IPython.core.display.HTML object>"
      ]
     },
     "metadata": {},
     "output_type": "display_data"
    }
   ],
   "source": [
    "import qiskit.tools.jupyter\n",
    "%qiskit_version_table"
   ]
  },
  {
   "cell_type": "code",
   "execution_count": 7,
   "id": "375b5154",
   "metadata": {},
   "outputs": [
    {
     "data": {
      "text/plain": [
       "'/Users/nick/anaconda3/envs/qiskit-research/bin/python'"
      ]
     },
     "execution_count": 7,
     "metadata": {},
     "output_type": "execute_result"
    }
   ],
   "source": [
    "import sys\n",
    "sys.executable"
   ]
  },
  {
   "cell_type": "code",
   "execution_count": 8,
   "id": "780c1fe8",
   "metadata": {},
   "outputs": [
    {
     "name": "stdout",
     "output_type": "stream",
     "text": [
      "<module 'qiskit_research' from '/Users/nick/Documents/ibmQ/qiskit-research/qiskit_research/__init__.py'>\n"
     ]
    }
   ],
   "source": [
    "import qiskit_research\n",
    "print(repr(qiskit_research))"
   ]
  },
  {
   "cell_type": "code",
   "execution_count": null,
   "id": "ec5e121f",
   "metadata": {},
   "outputs": [],
   "source": []
  }
 ],
 "metadata": {
  "kernelspec": {
   "display_name": "qiskit (research)",
   "language": "python",
   "name": "qiskit-research"
  },
  "language_info": {
   "codemirror_mode": {
    "name": "ipython",
    "version": 3
   },
   "file_extension": ".py",
   "mimetype": "text/x-python",
   "name": "python",
   "nbconvert_exporter": "python",
   "pygments_lexer": "ipython3",
   "version": "3.9.10"
  },
  "toc": {
   "base_numbering": 1,
   "nav_menu": {},
   "number_sections": true,
   "sideBar": true,
   "skip_h1_title": false,
   "title_cell": "Table of Contents",
   "title_sidebar": "Contents",
   "toc_cell": false,
   "toc_position": {},
   "toc_section_display": true,
   "toc_window_display": false
  }
 },
 "nbformat": 4,
 "nbformat_minor": 5
}
