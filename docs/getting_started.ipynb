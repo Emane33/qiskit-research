{
 "cells": [
  {
   "cell_type": "markdown",
   "id": "3f704ce0",
   "metadata": {},
   "source": [
    "# Getting Started"
   ]
  },
  {
   "cell_type": "markdown",
   "id": "92c7af6d",
   "metadata": {},
   "source": [
    "This notebook outlines the best operating practices for mapping a given quantum circuit to real IBM backends. As an example, we'll use the problem statement from [this manuscript](https://arxiv.org/abs/2108.09197), quantum simulation of an Ising model Hamiltonian:\n",
    "$$\n",
    "H = -J \\sum_{\\langle i,j \\rangle} Z_i Z_j + h \\sum_i X_i\n",
    "$$\n",
    "where $J$ is the exchange coupling between adjacent spins and $h$ is the transverse magnetic field. Here $X_i$ and $Z_j$ are the Pauli matrices acting on qubits $i$ and $j$, respectively."
   ]
  },
  {
   "cell_type": "code",
   "execution_count": 1,
   "id": "2d98425a",
   "metadata": {
    "ExecuteTime": {
     "end_time": "2022-06-29T13:24:19.948725Z",
     "start_time": "2022-06-29T13:24:13.294227Z"
    }
   },
   "outputs": [],
   "source": [
    "from qiskit import transpile\n",
    "from qiskit.circuit import Parameter, QuantumCircuit\n",
    "from qiskit.opflow import I, X, Z, PauliTrotterEvolution, Suzuki\n",
    "from qiskit.test.mock import FakeMumbai\n",
    "\n",
    "import numpy as np\n",
    "import matplotlib.pyplot as plt\n",
    "\n",
    "plt.style.use(\"default\")"
   ]
  },
  {
   "cell_type": "code",
   "execution_count": 2,
   "id": "856dff41",
   "metadata": {
    "ExecuteTime": {
     "end_time": "2022-06-29T13:24:21.702344Z",
     "start_time": "2022-06-29T13:24:20.063856Z"
    },
    "scrolled": false
   },
   "outputs": [
    {
     "name": "stdout",
     "output_type": "stream",
     "text": [
      "e^(-i*1.0*t * SummedOp([\n",
      "  -1.0*J * (\n",
      "    1.0 * ZZI\n",
      "    + 1.0 * ZIZ\n",
      "    + 1.0 * IZZ\n",
      "  ),\n",
      "  1.0*h * (\n",
      "    1.0 * XII\n",
      "    + 1.0 * IXI\n",
      "    + 1.0 * IIX\n",
      "  )\n",
      "]))\n"
     ]
    }
   ],
   "source": [
    "num_spins = 3\n",
    "\n",
    "JJ = Parameter(\"J\")\n",
    "hh = Parameter(\"h\")\n",
    "tt = Parameter(\"t\")\n",
    "\n",
    "ham = -JJ * sum(\n",
    "    [\n",
    "        sum(\n",
    "            [\n",
    "                (I ^ idx) ^ Z ^ (I ^ jdx) ^ Z ^ (I ^ (num_spins - idx - jdx - 2))\n",
    "                for jdx in range(num_spins - idx - 1)\n",
    "            ]\n",
    "        )\n",
    "        for idx in range(num_spins - 1)\n",
    "    ]\n",
    ") + hh * sum([(I ^ idx) ^ X ^ (I ^ (num_spins - idx - 1)) for idx in range(num_spins)])\n",
    "U_ham = (ham * tt).exp_i()\n",
    "print(U_ham)"
   ]
  },
  {
   "cell_type": "markdown",
   "id": "9b713e5b",
   "metadata": {},
   "source": [
    "**Note**: Since many of these transpilation steps are computationally intensive, it may make sense to break up your circuit into smaller subcircuits, and then combine them together to get the final circuit. This is naturally acheived for Trotterized algorithms, since `reps` here just repeats the same circuit `num_steps` times, hence we just set `num_steps=1` and the resulting circuits can be combined into as many steps as desired later."
   ]
  },
  {
   "cell_type": "code",
   "execution_count": 3,
   "id": "701652d6",
   "metadata": {
    "ExecuteTime": {
     "end_time": "2022-06-29T13:24:23.313935Z",
     "start_time": "2022-06-29T13:24:21.723284Z"
    },
    "scrolled": true
   },
   "outputs": [
    {
     "name": "stderr",
     "output_type": "stream",
     "text": [
      "Evolved Hamiltonian is not composed of only Paulis, converting to Pauli representation, which can be expensive.\n"
     ]
    },
    {
     "data": {
      "image/png": "[encoded data removed]",
      "text/plain": [
       "<Figure size 2001.78x367.889 with 1 Axes>"
      ]
     },
     "execution_count": 3,
     "metadata": {},
     "output_type": "execute_result"
    }
   ],
   "source": [
    "num_steps = 1\n",
    "trot_circ = (\n",
    "    PauliTrotterEvolution(trotter_mode=Suzuki(order=2, reps=num_steps))\n",
    "    .convert(U_ham)\n",
    "    .to_circuit()\n",
    ")\n",
    "trot_circ.measure_all()\n",
    "trot_circ.draw(\"mpl\")"
   ]
  },
  {
   "cell_type": "markdown",
   "id": "d3d7f498",
   "metadata": {},
   "source": [
    "## Transpile for Good SWAP Mapping\n",
    "\n",
    "While the Ising Hamiltonian is a nearest-neighbor interaction, in general problems must respect the layout of the actual quantum hardware. Due to limited connectivity, this often entails doing SWAP operations to move quantum information around. SWAPs are costly in the sense they consist of three `CX`s. The Qiskit transpiler with `optimization_level=3` uses the SABRE SWAP method, which is efficient, however stochastic, since the SWAP-mapping problem is NP-hard. \n",
    "\n",
    "This operation serves only to minimize the number of SWAPs in the transpiled circuits, and is not aware of noise on the underlying qubits. This is considered in a following step."
   ]
  },
  {
   "cell_type": "code",
   "execution_count": 4,
   "id": "bd67b483",
   "metadata": {
    "ExecuteTime": {
     "end_time": "2022-06-29T13:24:32.286874Z",
     "start_time": "2022-06-29T13:24:23.321094Z"
    },
    "scrolled": false
   },
   "outputs": [
    {
     "name": "stdout",
     "output_type": "stream",
     "text": [
      "[26, 26, 26, 26, 26, 26, 26, 26, 26, 26]\n"
     ]
    }
   ],
   "source": [
    "# TODO - check issue with floats not being rounded off\n",
    "\n",
    "num_tries = 10\n",
    "\n",
    "backend = FakeMumbai()\n",
    "trot_circ_ts = transpile(\n",
    "    [trot_circ] * num_tries, backend, optimization_level=3, seed_transpiler=12345\n",
    ")\n",
    "cx_counts = [trot_circ_ts[idx].count_ops()[\"cx\"] for idx in range(num_tries)]\n",
    "print(cx_counts)"
   ]
  },
  {
   "cell_type": "code",
   "execution_count": 5,
   "id": "446229d4",
   "metadata": {
    "ExecuteTime": {
     "end_time": "2022-06-29T13:24:32.315515Z",
     "start_time": "2022-06-29T13:24:32.309905Z"
    }
   },
   "outputs": [],
   "source": [
    "best_idx = np.argmin(cx_counts)\n",
    "trot_circ_t = trot_circ_ts[best_idx]"
   ]
  },
  {
   "cell_type": "markdown",
   "id": "781b20b2",
   "metadata": {},
   "source": [
    "Due to the nearest-neighbor structure of this problem, the number of `CX`s is unaffected by the stochastic nature of the SWAP mapper, however, this is not true in general.\n",
    "\n",
    "Now that we have a SWAP-mapped optimal circuit, we consider the layouts on the actual quantum backend. This process \"deflates\" the circuit (by removing idle qubits) and scores different layouts due to error rates, which are calculated by a cost function that considers gate error rates and $T_1$/$T_2$ times by default."
   ]
  },
  {
   "cell_type": "code",
   "execution_count": 6,
   "id": "f69e7d01",
   "metadata": {
    "ExecuteTime": {
     "end_time": "2022-06-29T13:24:32.388074Z",
     "start_time": "2022-06-29T13:24:32.318616Z"
    },
    "scrolled": true
   },
   "outputs": [
    {
     "name": "stdout",
     "output_type": "stream",
     "text": [
      "[([22, 19, 20], 0.19559875042718045), ([20, 19, 22], 0.19725649661357325), ([4, 7, 10], 0.19965672881426533), ([10, 7, 4], 0.20034675008891367), ([19, 22, 25], 0.20604063113181614), ([25, 22, 19], 0.20735474632819384), ([2, 3, 5], 0.2126845680885847), ([26, 25, 22], 0.214818945894926), ([5, 3, 2], 0.2148207558503763), ([22, 25, 26], 0.21592923251095508), ([26, 25, 24], 0.2212775495056506), ([24, 25, 26], 0.223038253655217), ([4, 7, 6], 0.2289583365670348), ([7, 10, 12], 0.2290008003436642), ([12, 10, 7], 0.22910066080742186), ([22, 25, 24], 0.23150457934882296), ([24, 25, 22], 0.23215638944301997), ([17, 18, 21], 0.23478767200759465), ([21, 18, 17], 0.23509220244123186), ([23, 21, 18], 0.23657038973700217), ([18, 21, 23], 0.23710273302300833), ([6, 7, 4], 0.2380689632120604), ([11, 14, 16], 0.2382179773578127), ([16, 14, 11], 0.2384268101894792), ([11, 14, 13], 0.24074103324290508), ([13, 14, 11], 0.24157113046714707), ([16, 14, 13], 0.24335107476834494), ([13, 14, 16], 0.24397106273962432), ([18, 15, 12], 0.24931406187146543), ([12, 15, 18], 0.24951927202998414), ([15, 18, 17], 0.25239784095389195), ([10, 7, 6], 0.2528891063670634), ([17, 18, 15], 0.2551467227835479), ([15, 18, 21], 0.25725789476245453), ([22, 19, 16], 0.26012667620707464), ([21, 18, 15], 0.260283407642924), ([6, 7, 10], 0.26107990221019006), ([7, 4, 1], 0.26425597573904014), ([15, 12, 10], 0.26849042789089705), ([10, 12, 15], 0.26914901279759595), ([20, 19, 16], 0.2702912345742182), ([21, 23, 24], 0.27058023616830207), ([16, 19, 22], 0.27281136611833123), ([25, 24, 23], 0.2728385496767173), ([24, 23, 21], 0.2757559261864888), ([1, 4, 7], 0.27580680026989257), ([10, 12, 13], 0.2787827298734843), ([23, 24, 25], 0.27892991033264714), ([16, 19, 20], 0.28132057234302743), ([13, 12, 10], 0.28680790386384636), ([15, 12, 13], 0.30019464095946513), ([13, 12, 15], 0.3086045896635602), ([14, 11, 8], 0.3115876130453863), ([8, 11, 14], 0.31775715029460094), ([14, 16, 19], 0.31806383596227217), ([14, 13, 12], 0.3192932040929545), ([11, 8, 9], 0.32554333731606677), ([12, 13, 14], 0.3275008930581924), ([9, 8, 11], 0.32869795145077196), ([19, 16, 14], 0.3298723480697813), ([3, 5, 8], 0.38682572793040093), ([11, 8, 5], 0.3962028174581278), ([8, 5, 3], 0.40532202341907964), ([5, 8, 11], 0.4113567270234263), ([9, 8, 5], 0.42335723534080527), ([5, 8, 9], 0.435187854553415), ([3, 2, 1], 0.4383843980599783), ([1, 2, 3], 0.46964823732160066), ([4, 1, 0], 0.47005406704840313), ([0, 1, 4], 0.48794185630591946), ([4, 1, 2], 0.48936027834438034), ([2, 1, 4], 0.5101104259472529), ([0, 1, 2], 0.5998741531541091), ([2, 1, 0], 0.6027238491066647)]\n"
     ]
    }
   ],
   "source": [
    "from mapomatic import deflate_circuit, evaluate_layouts, matching_layouts\n",
    "\n",
    "trot_circ_def = deflate_circuit(trot_circ_t)\n",
    "layouts = matching_layouts(trot_circ_def, backend)\n",
    "scored_layouts = evaluate_layouts(trot_circ_def, layouts, backend)\n",
    "print(scored_layouts)"
   ]
  },
  {
   "cell_type": "markdown",
   "id": "abf874a1",
   "metadata": {},
   "source": [
    "## Pulse Scaling\n",
    "\n",
    "The next method is particularly suited to problems in quantum simulation because the Trotterization of the unitary evolution operator `U_ham` involved interactions that are typically much smaller than the angle $\\pi/2$ used to generate a `CX` from an `RZXGate`, which itself is close to what the [cross resonance entangling](https://arxiv.org/abs/1603.04821) achieves. "
   ]
  },
  {
   "cell_type": "code",
   "execution_count": 7,
   "id": "d07c1600",
   "metadata": {
    "ExecuteTime": {
     "end_time": "2022-06-29T13:24:33.390384Z",
     "start_time": "2022-06-29T13:24:32.413262Z"
    }
   },
   "outputs": [
    {
     "data": {
      "image/png": "[encoded data removed]",
      "text/plain": [
       "<Figure size 640x480 with 2 Axes>"
      ]
     },
     "metadata": {},
     "output_type": "display_data"
    }
   ],
   "source": [
    "qc = QuantumCircuit(2)\n",
    "qc.cx(0, 1)\n",
    "qc_rzx = transpile(qc, basis_gates=[\"sx\", \"rz\", \"rzx\"])\n",
    "\n",
    "fig, (ax1, ax2) = plt.subplots(1, 2)\n",
    "qc.draw(\"mpl\", ax=ax1)\n",
    "qc_rzx.draw(\"mpl\", ax=ax2)"
   ]
  },
  {
   "cell_type": "markdown",
   "id": "9b78ad89",
   "metadata": {
    "ExecuteTime": {
     "end_time": "2022-06-23T12:54:42.579431Z",
     "start_time": "2022-06-23T12:54:42.268911Z"
    }
   },
   "source": [
    "Since we are implementing two-qubit rotation angles less than $\\pi/2$, we can more efficiently express these interaction in terms of $R_{ZX}(\\theta)$ rotations and directly build them from scaled cross resonance pulses obtained from the backend, as detailed in [this manuscript](http://arxiv.org/abs/2012.11660). This method first uses a greedy algorithm called [template opimization](http://arxiv.org/abs/1909.05270) to identify parts of the circuit that can be substituted by $R_{ZX}$ rotations. If parameters are passed to the method, it will bind them to the circuit and attach the necessary pulse gates for implementing the $R_{ZX}$ rotations. Below we will do that separately, because we will attach a series of `Parameter`s as a function of time, and it is more efficient to do the template optimization step once since it is greedy and attaching the pulse schedules in quick."
   ]
  },
  {
   "cell_type": "code",
   "execution_count": null,
   "id": "fb662713",
   "metadata": {
    "ExecuteTime": {
     "start_time": "2022-06-29T13:24:13.291Z"
    }
   },
   "outputs": [],
   "source": [
    "from qiskit_research.utils.convenience import scale_cr_pulses\n",
    "\n",
    "my_layout = scored_layouts[0][0]  # the layout with the lowest score (i.e., error)\n",
    "trot_circ_sca = scale_cr_pulses(\n",
    "    transpile(trot_circ_def, initial_layout=my_layout), backend\n",
    ")\n",
    "trot_circ_sca.draw(\"mpl\", idle_wires=False)"
   ]
  },
  {
   "cell_type": "code",
   "execution_count": null,
   "id": "3412d8ed",
   "metadata": {
    "ExecuteTime": {
     "start_time": "2022-06-29T13:24:13.293Z"
    }
   },
   "outputs": [],
   "source": [
    "from qiskit_research.utils.convenience import attach_cr_pulses\n",
    "\n",
    "t_range = np.linspace(0, 10, 51)\n",
    "param_bind = {JJ: 0.5236, hh: 1}\n",
    "\n",
    "circs = []\n",
    "for t_set in t_range:\n",
    "    param_bind[tt] = t_set\n",
    "    circs.append(attach_cr_pulses(trot_circ_sca, backend, param_bind))"
   ]
  },
  {
   "cell_type": "markdown",
   "id": "5bbc0bc4",
   "metadata": {},
   "source": [
    "## Pauli Twirling"
   ]
  },
  {
   "cell_type": "code",
   "execution_count": null,
   "id": "a1a178b4",
   "metadata": {
    "ExecuteTime": {
     "start_time": "2022-06-29T13:24:13.295Z"
    }
   },
   "outputs": [],
   "source": [
    "from qiskit_research.utils.convenience import add_pauli_twirls\n",
    "\n",
    "# TODO: add optional transpilation step to break down added Paulis\n",
    "# this returns a circuit with shape len(circs) x num_twirled_circuits\n",
    "twirled_circs = add_pauli_twirls(circs, num_twirled_circuits=8, seed=12345)"
   ]
  },
  {
   "cell_type": "code",
   "execution_count": null,
   "id": "e65db95c",
   "metadata": {
    "ExecuteTime": {
     "start_time": "2022-06-29T13:24:13.297Z"
    }
   },
   "outputs": [],
   "source": [
    "twirled_circs[-1][-1].draw(\"mpl\", idle_wires=False)"
   ]
  },
  {
   "cell_type": "markdown",
   "id": "1cc0b6e1",
   "metadata": {},
   "source": [
    "Look good! Now before proceeding to dynamical decoupling, we must convert to the native basis gates of the backend so that we can retrieve gate timing information, which is necessary to add dynamical decoupling passes. (Unless you set the keyword argument `transpile_added_paulis=True` in the above). You will also need to run this before running on a backend."
   ]
  },
  {
   "cell_type": "code",
   "execution_count": null,
   "id": "fe6d3bf9",
   "metadata": {
    "ExecuteTime": {
     "start_time": "2022-06-29T13:24:13.299Z"
    }
   },
   "outputs": [],
   "source": [
    "from qiskit_research.utils.convenience import transpile_added_paulis\n",
    "\n",
    "twirled_circs_t = transpile_added_paulis(twirled_circs)"
   ]
  },
  {
   "cell_type": "markdown",
   "id": "77ea5e92",
   "metadata": {},
   "source": [
    "## Dynamical Decoupling"
   ]
  },
  {
   "cell_type": "code",
   "execution_count": null,
   "id": "3f421d43",
   "metadata": {
    "ExecuteTime": {
     "start_time": "2022-06-29T13:24:13.303Z"
    }
   },
   "outputs": [],
   "source": [
    "from qiskit_research.utils.convenience import add_dynamical_decoupling\n",
    "\n",
    "twirled_circs_with_dd = add_dynamical_decoupling(\n",
    "    twirled_circs_t, backend, \"XY4\", add_pulse_cals=True\n",
    ")"
   ]
  },
  {
   "cell_type": "code",
   "execution_count": null,
   "id": "61ef6013",
   "metadata": {
    "ExecuteTime": {
     "start_time": "2022-06-29T13:24:13.304Z"
    }
   },
   "outputs": [],
   "source": [
    "from qiskit.visualization import timeline_drawer\n",
    "\n",
    "timeline_drawer(twirled_circs_with_dd[-1][-1], show_idle=False)"
   ]
  },
  {
   "cell_type": "markdown",
   "id": "c372ad05",
   "metadata": {},
   "source": [
    "## Circuit Execution"
   ]
  },
  {
   "cell_type": "code",
   "execution_count": null,
   "id": "666f0500",
   "metadata": {
    "ExecuteTime": {
     "start_time": "2022-06-29T13:24:13.306Z"
    }
   },
   "outputs": [],
   "source": [
    "from qiskit_ibm_runtime import QiskitRuntimeService\n",
    "\n",
    "service = QiskitRuntimeService()\n",
    "\n",
    "# Set the \"sampler\" program inputs\n",
    "inputs = {\"circuits\": circs, \"circuit_indices\": list(range(len(circs)))}\n",
    "\n",
    "# Configure backend options\n",
    "options = {\"backend_name\": \"ibmq_qasm_simulator\"}\n",
    "\n",
    "# Execute the circuit using the \"sampler\" program.\n",
    "job = service.run(program_id=\"sampler\", options=options, inputs=inputs)"
   ]
  },
  {
   "cell_type": "code",
   "execution_count": null,
   "id": "85619f03",
   "metadata": {
    "ExecuteTime": {
     "start_time": "2022-06-29T13:24:13.308Z"
    }
   },
   "outputs": [],
   "source": [
    "counts = backend.run(circs).result().get_counts()"
   ]
  },
  {
   "cell_type": "code",
   "execution_count": null,
   "id": "35912779",
   "metadata": {
    "ExecuteTime": {
     "start_time": "2022-06-29T13:24:13.309Z"
    }
   },
   "outputs": [],
   "source": [
    "backend.configuration().max_experiments"
   ]
  },
  {
   "cell_type": "code",
   "execution_count": null,
   "id": "2b102ba9",
   "metadata": {
    "ExecuteTime": {
     "start_time": "2022-06-29T13:24:13.310Z"
    }
   },
   "outputs": [],
   "source": [
    "conf.max_experiments"
   ]
  },
  {
   "cell_type": "code",
   "execution_count": null,
   "id": "47553bfb",
   "metadata": {
    "ExecuteTime": {
     "start_time": "2022-06-29T13:24:13.312Z"
    }
   },
   "outputs": [],
   "source": [
    "from qiskit.providers.ibmq.managed import IBMQJobManager\n",
    "\n",
    "# Use Job Manager to break the circuits into multiple jobs.\n",
    "job_manager = IBMQJobManager()\n",
    "job_set_foo = job_manager.run(circs, backend=backend, name=\"foo\")"
   ]
  },
  {
   "cell_type": "code",
   "execution_count": null,
   "id": "86d1dc9d",
   "metadata": {
    "ExecuteTime": {
     "start_time": "2022-06-29T13:24:13.316Z"
    }
   },
   "outputs": [],
   "source": [
    "retrieved_foo = job_manager.retrieve_job_set(job_set_id=job_set_id, provider=provider)"
   ]
  },
  {
   "cell_type": "markdown",
   "id": "a6a0e63b",
   "metadata": {},
   "source": [
    "## Measurement Error Mitigation"
   ]
  },
  {
   "cell_type": "code",
   "execution_count": null,
   "id": "f39910db",
   "metadata": {
    "ExecuteTime": {
     "start_time": "2022-06-29T13:24:13.317Z"
    }
   },
   "outputs": [],
   "source": [
    "from mthree import M3Mitigation\n",
    "\n",
    "mit = M3Mitigation(backend)\n",
    "mit.cals_from_system(my_layout)"
   ]
  },
  {
   "cell_type": "code",
   "execution_count": null,
   "id": "785fd00f",
   "metadata": {
    "ExecuteTime": {
     "start_time": "2022-06-29T13:24:13.319Z"
    }
   },
   "outputs": [],
   "source": [
    "quasi_probs = mit.apply_correction(counts, my_layout)"
   ]
  },
  {
   "cell_type": "code",
   "execution_count": null,
   "id": "651984b6",
   "metadata": {},
   "outputs": [],
   "source": []
  }
 ],
 "metadata": {
  "kernelspec": {
   "display_name": "qiskit (research)",
   "language": "python",
   "name": "qiskit-research"
  },
  "language_info": {
   "codemirror_mode": {
    "name": "ipython",
    "version": 3
   },
   "file_extension": ".py",
   "mimetype": "text/x-python",
   "name": "python",
   "nbconvert_exporter": "python",
   "pygments_lexer": "ipython3",
   "version": "3.9.10"
  },
  "toc": {
   "base_numbering": 1,
   "nav_menu": {},
   "number_sections": true,
   "sideBar": true,
   "skip_h1_title": false,
   "title_cell": "Table of Contents",
   "title_sidebar": "Contents",
   "toc_cell": false,
   "toc_position": {},
   "toc_section_display": true,
   "toc_window_display": false
  }
 },
 "nbformat": 4,
 "nbformat_minor": 5
}
