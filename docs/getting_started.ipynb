{
 "cells": [
  {
   "cell_type": "markdown",
   "id": "3f704ce0",
   "metadata": {},
   "source": [
    "# Getting Started\n",
    "\n",
    "This notebook outlines the best operating practices for mapping a given quantum circuit to real IBM backends. The tools used within build on Qiskit yet not all are contained within this repository. This repository also contains custom transpiler passes that users may construct their own `PassManager`s from. "
   ]
  },
  {
   "cell_type": "code",
   "execution_count": 1,
   "id": "2d98425a",
   "metadata": {
    "ExecuteTime": {
     "end_time": "2022-08-11T13:52:52.970286Z",
     "start_time": "2022-08-11T13:52:52.234938Z"
    }
   },
   "outputs": [],
   "source": [
    "from qiskit import IBMQ, transpile\n",
    "from qiskit.circuit import Parameter, QuantumCircuit\n",
    "from qiskit.opflow import I, X, Z, PauliTrotterEvolution, Suzuki\n",
    "from qiskit.providers.fake_provider import FakeMumbai\n",
    "\n",
    "import numpy as np\n",
    "import matplotlib.pyplot as plt\n",
    "\n",
    "plt.style.use(\"default\")"
   ]
  },
  {
   "cell_type": "code",
   "execution_count": 2,
   "id": "dc93f698",
   "metadata": {
    "ExecuteTime": {
     "end_time": "2022-08-11T13:53:05.871137Z",
     "start_time": "2022-08-11T13:52:52.972611Z"
    }
   },
   "outputs": [],
   "source": [
    "IBMQ.load_account()\n",
    "provider = IBMQ.get_provider(hub=\"ibm-q-internal\", group=\"deployed\", project=\"default\")"
   ]
  },
  {
   "cell_type": "markdown",
   "id": "92c7af6d",
   "metadata": {},
   "source": [
    "## Problem: Quantum Simulation\n",
    "\n",
    "As an example, we'll use the problem statement from [this manuscript](https://arxiv.org/abs/2108.09197), the quantum simulation of an Ising model Hamiltonian:\n",
    "$$\n",
    "H = -J \\sum_{\\langle i,j \\rangle} Z_i Z_j + h \\sum_i X_i\n",
    "$$\n",
    "where $J$ is the exchange coupling between adjacent spins and $h$ is the transverse magnetic field. Here $X_i$ and $Z_j$ are the Pauli matrices acting on qubits $i$ and $j$, respectively. This model describes an interacting system of spins in a magnetic field, which is normally a nearest-neighbor interaction, in order to highlight the mapping of this problem to quantum hardware, we make it an all-to-all interaction. <br> <br>\n",
    "\n",
    "We will use tools from `qiskit.opflow` to generate the circuits needed for the simulation. The Hamiltonian $H$ is formed by instantiating `Parameter`s and building the interactions from the Pauli matrices `I`, `X`, and `Z` by concatenating them in tensor products ($\\otimes$) represented in `opflow` by the caret symbol `^`. The formal solution to Schrödinger's equation is\n",
    "$$\n",
    "U = e^{-iHt},\n",
    "$$\n",
    "the *time-evolution unitary* corresponding to Hamiltonian evolution under $H$, and is found formally using the `.exp_i()` on an operator expression."
   ]
  },
  {
   "cell_type": "code",
   "execution_count": 3,
   "id": "856dff41",
   "metadata": {
    "ExecuteTime": {
     "end_time": "2022-08-11T13:53:06.082562Z",
     "start_time": "2022-08-11T13:53:05.874527Z"
    },
    "scrolled": false
   },
   "outputs": [
    {
     "name": "stdout",
     "output_type": "stream",
     "text": [
      "e^(-i*1.0*t * SummedOp([\n",
      "  -1.0*J * (\n",
      "    1.0 * ZZI\n",
      "    + 1.0 * ZIZ\n",
      "    + 1.0 * IZZ\n",
      "  ),\n",
      "  1.0*h * (\n",
      "    1.0 * XII\n",
      "    + 1.0 * IXI\n",
      "    + 1.0 * IIX\n",
      "  )\n",
      "]))\n"
     ]
    }
   ],
   "source": [
    "num_spins = 3\n",
    "\n",
    "JJ = Parameter(\"J\")\n",
    "hh = Parameter(\"h\")\n",
    "tt = Parameter(\"t\")\n",
    "\n",
    "ham = -JJ * sum(\n",
    "    [\n",
    "        sum(\n",
    "            [\n",
    "                (I ^ idx) ^ Z ^ (I ^ jdx) ^ Z ^ (I ^ (num_spins - idx - jdx - 2))\n",
    "                for jdx in range(num_spins - idx - 1)\n",
    "            ]\n",
    "        )\n",
    "        for idx in range(num_spins - 1)\n",
    "    ]\n",
    ") + hh * sum([(I ^ idx) ^ X ^ (I ^ (num_spins - idx - 1)) for idx in range(num_spins)])\n",
    "U_ham = (ham * tt).exp_i()\n",
    "print(U_ham)"
   ]
  },
  {
   "cell_type": "markdown",
   "id": "9b713e5b",
   "metadata": {},
   "source": [
    "## Converting Operators to Circuits\n",
    "\n",
    "The `qiskit.opflow` module contains methods to convert the time-evolved operators (`EvolvedOp`s) to circuits. One common method is the Suzuki-Trotter decomposition, in which the total evolution time $t$ is broken into `num_steps` $N$. By choosing the second-order of the `PauliTrotterEvolution`, we create a circuit that acts like our unitary to second order $\\mathcal{O}((t/N)^2)$. \n",
    "\n",
    "Practically, since many of the following transpilation steps are computationally intensive, it may make sense to break up your circuit into smaller subcircuits, and then combine them together to get the final circuit. This is naturally acheived for Trotterized algorithms, since `reps` here just repeats the same circuit `num_steps` times, hence we just set `num_steps=1` and the resulting circuits can be combined into as many steps as desired later."
   ]
  },
  {
   "cell_type": "code",
   "execution_count": 4,
   "id": "7b6369d0",
   "metadata": {
    "ExecuteTime": {
     "end_time": "2022-08-11T13:53:06.364686Z",
     "start_time": "2022-08-11T13:53:06.083754Z"
    }
   },
   "outputs": [
    {
     "name": "stderr",
     "output_type": "stream",
     "text": [
      "Evolved Hamiltonian is not composed of only Paulis, converting to Pauli representation, which can be expensive.\n"
     ]
    },
    {
     "data": {
      "image/png": "[encoded data removed]",
      "text/plain": [
       "<Figure size 1170.2x204.68 with 1 Axes>"
      ]
     },
     "execution_count": 4,
     "metadata": {},
     "output_type": "execute_result"
    }
   ],
   "source": [
    "num_steps = 1\n",
    "trot_circ = (\n",
    "    PauliTrotterEvolution(trotter_mode=Suzuki(order=2, reps=num_steps))\n",
    "    .convert(U_ham)\n",
    "    .to_circuit()\n",
    ")\n",
    "trot_circ.draw(\"mpl\")"
   ]
  },
  {
   "cell_type": "markdown",
   "id": "d3d7f498",
   "metadata": {},
   "source": [
    "## Transpile for Good SWAP Mapping\n",
    "\n",
    "In general problems must respect the layout of the actual quantum hardware. Due to limited connectivity, this often entails doing SWAP operations to move quantum information around. SWAPs are costly in the sense they consist of three `CX`s. The Qiskit transpiler with `optimization_level=3` uses the [SABRE SWAP method](https://arxiv.org/abs/1809.02573), which is efficient, however stochastic, since the SWAP-mapping problem is NP-hard. Here we do it several time and take the solution with the lowest CNOT count. This operation serves only to minimize the number of SWAPs in the transpiled circuits, and is not aware of noise on the underlying qubits. That is considered in a following step."
   ]
  },
  {
   "cell_type": "code",
   "execution_count": 5,
   "id": "bd67b483",
   "metadata": {
    "ExecuteTime": {
     "end_time": "2022-08-11T13:53:08.309696Z",
     "start_time": "2022-08-11T13:53:06.372964Z"
    },
    "scrolled": false
   },
   "outputs": [
    {
     "name": "stdout",
     "output_type": "stream",
     "text": [
      "[26, 26, 26, 26, 26, 26, 26, 26, 26, 26]\n"
     ]
    }
   ],
   "source": [
    "# TODO - check issue with floats not being rounded off\n",
    "\n",
    "num_tries = 10\n",
    "\n",
    "# backend = FakeMumbai()\n",
    "# backend = provider.get_backend('ibmq_mumbai')\n",
    "backend = provider.get_backend(\"ibm_lagos\")\n",
    "trot_circ_ts = transpile(\n",
    "    [trot_circ] * num_tries, backend, optimization_level=3, seed_transpiler=12345\n",
    ")\n",
    "cx_counts = [trot_circ_ts[idx].count_ops()[\"cx\"] for idx in range(num_tries)]\n",
    "print(cx_counts)"
   ]
  },
  {
   "cell_type": "code",
   "execution_count": 6,
   "id": "446229d4",
   "metadata": {
    "ExecuteTime": {
     "end_time": "2022-08-11T13:53:08.312214Z",
     "start_time": "2022-08-11T13:53:08.310531Z"
    }
   },
   "outputs": [],
   "source": [
    "best_idx = np.argmin(cx_counts)\n",
    "trot_circ_t = trot_circ_ts[best_idx]"
   ]
  },
  {
   "cell_type": "markdown",
   "id": "781b20b2",
   "metadata": {},
   "source": [
    "## Noise-aware Layout\n",
    "\n",
    "Now that we have a SWAP-mapped optimal circuit, we consider the layouts on the actual quantum backend. These layouts are found by the VF2 subgraph isomorphism algorithm, which is very fast. Since the transpiler mapped the circuit to physical qubits, we must first \"deflate\" the circuits with `deflate_circuit` (which removes idle qubits), finds the layouts with `matching_layouts`, then scores those layouts due to error rates, which are calculated by a cost function that may be specified by the user, see [`mapomatic`](https://github.com/Qiskit-Partners/mapomatic) documentation for how. The default cost function includes errors determined for each qubit gates and measurements, although not decoherence/relaxation caused by idle time, producing an *infidelity score* where the lowest number is the preferred layout."
   ]
  },
  {
   "cell_type": "code",
   "execution_count": 7,
   "id": "f69e7d01",
   "metadata": {
    "ExecuteTime": {
     "end_time": "2022-08-11T13:53:08.319919Z",
     "start_time": "2022-08-11T13:53:08.312991Z"
    },
    "scrolled": true
   },
   "outputs": [
    {
     "name": "stdout",
     "output_type": "stream",
     "text": [
      "[([4, 5, 6], 0.12719251234702322), ([6, 5, 4], 0.1300224714618584), ([3, 5, 6], 0.19264176299560232), ([3, 1, 0], 0.20309221741061256), ([0, 1, 3], 0.20333737334577995), ([6, 5, 3], 0.20524973331633678), ([3, 5, 4], 0.21298874623783082), ([4, 5, 3], 0.22275887317516874), ([2, 1, 0], 0.24245668326093384), ([5, 3, 1], 0.24281242029570504), ([2, 1, 3], 0.24785335795590058), ([0, 1, 2], 0.2480742310482451), ([1, 3, 5], 0.24886169314179551), ([3, 1, 2], 0.2532011460819723)]\n"
     ]
    }
   ],
   "source": [
    "from mapomatic import deflate_circuit, evaluate_layouts, matching_layouts\n",
    "\n",
    "trot_circ_def = deflate_circuit(trot_circ_t)\n",
    "layouts = matching_layouts(trot_circ_def, backend)\n",
    "scored_layouts = evaluate_layouts(\n",
    "    trot_circ_def, layouts, backend\n",
    ")  # cost_function = cost_func\n",
    "print(scored_layouts)"
   ]
  },
  {
   "cell_type": "markdown",
   "id": "abf874a1",
   "metadata": {},
   "source": [
    "## Pulse Scaling\n",
    "\n",
    "For certain problems, in particular Trotterized quantum simulation problems, or other algorithms that require small angles of rotation in the two-qubit Hilbert space, it is more efficient to implement operations in terms of pulses extracted from the CNOT gate. Basically, a CNOT gate is *locally-equivalent* to an $R_{ZX}(\\pi/2)$ rotation, meaning it is built from that and single-qubit rotations, as can be seen from the following code:"
   ]
  },
  {
   "cell_type": "code",
   "execution_count": 8,
   "id": "d07c1600",
   "metadata": {
    "ExecuteTime": {
     "end_time": "2022-08-11T13:53:08.489380Z",
     "start_time": "2022-08-11T13:53:08.320642Z"
    }
   },
   "outputs": [
    {
     "data": {
      "image/png": "[encoded data removed]",
      "text/plain": [
       "<Figure size 432x288 with 2 Axes>"
      ]
     },
     "metadata": {},
     "output_type": "display_data"
    }
   ],
   "source": [
    "# TODO: check out Weyl decomp stuff\n",
    "\n",
    "qc = QuantumCircuit(2)\n",
    "qc.cx(0, 1)\n",
    "qc_rzx = transpile(qc, basis_gates=[\"sx\", \"rz\", \"rzx\"])\n",
    "\n",
    "fig, (ax1, ax2) = plt.subplots(1, 2)\n",
    "qc.draw(\"mpl\", ax=ax1)\n",
    "qc_rzx.draw(\"mpl\", ax=ax2)"
   ]
  },
  {
   "cell_type": "markdown",
   "id": "d81f1805",
   "metadata": {},
   "source": [
    "The `RZXGate` is very similar to the native two-qubit interation called [echoed cross resonance](https://arxiv.org/abs/1603.04821) which is used to create entanglement on IBM backends. In particular, many two-qubit interactions for quantum simulation, such as the $ZZ$-interaction of our Ising Hamiltonian, can be more efficiently represented (in terms of error) by $R_{ZX}(\\theta)$ rotations, which are automatically broken into scaled echoed cross resonance `secr` gates unless `unroll_rzx_to_ecr` is set to `False`."
   ]
  },
  {
   "cell_type": "code",
   "execution_count": 9,
   "id": "b6365ce4",
   "metadata": {
    "ExecuteTime": {
     "end_time": "2022-08-11T13:53:08.782294Z",
     "start_time": "2022-08-11T13:53:08.491905Z"
    }
   },
   "outputs": [
    {
     "ename": "ModuleNotFoundError",
     "evalue": "No module named 'qiskit.transpiler.passes.calibration.base_builder'",
     "output_type": "error",
     "traceback": [
      "\u001b[0;31m---------------------------------------------------------------------------\u001b[0m",
      "\u001b[0;31mModuleNotFoundError\u001b[0m                       Traceback (most recent call last)",
      "Input \u001b[0;32mIn [9]\u001b[0m, in \u001b[0;36m<cell line: 1>\u001b[0;34m()\u001b[0m\n\u001b[0;32m----> 1\u001b[0m \u001b[38;5;28;01mfrom\u001b[39;00m \u001b[38;5;21;01mqiskit_research\u001b[39;00m\u001b[38;5;21;01m.\u001b[39;00m\u001b[38;5;21;01mutils\u001b[39;00m\u001b[38;5;21;01m.\u001b[39;00m\u001b[38;5;21;01mconvenience\u001b[39;00m \u001b[38;5;28;01mimport\u001b[39;00m scale_cr_pulses\n\u001b[1;32m      3\u001b[0m theta \u001b[38;5;241m=\u001b[39m Parameter(\u001b[38;5;124m\"\u001b[39m\u001b[38;5;124m$\u001b[39m\u001b[38;5;130;01m\\\\\u001b[39;00m\u001b[38;5;124mtheta$\u001b[39m\u001b[38;5;124m\"\u001b[39m)\n\u001b[1;32m      5\u001b[0m qc \u001b[38;5;241m=\u001b[39m QuantumCircuit(\u001b[38;5;241m2\u001b[39m)\n",
      "File \u001b[0;32m~/Documents/codebase/qiskit-research/qiskit_research/utils/__init__.py:28\u001b[0m, in \u001b[0;36m<module>\u001b[0;34m\u001b[0m\n\u001b[1;32m     19\u001b[0m \u001b[38;5;28;01mfrom\u001b[39;00m \u001b[38;5;21;01mqiskit_research\u001b[39;00m\u001b[38;5;21;01m.\u001b[39;00m\u001b[38;5;21;01mutils\u001b[39;00m\u001b[38;5;21;01m.\u001b[39;00m\u001b[38;5;21;01mdynamical_decoupling\u001b[39;00m \u001b[38;5;28;01mimport\u001b[39;00m (\n\u001b[1;32m     20\u001b[0m     add_pulse_calibrations,\n\u001b[1;32m     21\u001b[0m     dynamical_decoupling_passes,\n\u001b[1;32m     22\u001b[0m )\n\u001b[1;32m     23\u001b[0m \u001b[38;5;28;01mfrom\u001b[39;00m \u001b[38;5;21;01mqiskit_research\u001b[39;00m\u001b[38;5;21;01m.\u001b[39;00m\u001b[38;5;21;01mutils\u001b[39;00m\u001b[38;5;21;01m.\u001b[39;00m\u001b[38;5;21;01mgate_decompositions\u001b[39;00m \u001b[38;5;28;01mimport\u001b[39;00m (\n\u001b[1;32m     24\u001b[0m     RZXtoEchoedCR,\n\u001b[1;32m     25\u001b[0m     XXMinusYYtoRZX,\n\u001b[1;32m     26\u001b[0m     XXPlusYYtoRZX,\n\u001b[1;32m     27\u001b[0m )\n\u001b[0;32m---> 28\u001b[0m \u001b[38;5;28;01mfrom\u001b[39;00m \u001b[38;5;21;01mqiskit_research\u001b[39;00m\u001b[38;5;21;01m.\u001b[39;00m\u001b[38;5;21;01mutils\u001b[39;00m\u001b[38;5;21;01m.\u001b[39;00m\u001b[38;5;21;01mpauli_twirling\u001b[39;00m \u001b[38;5;28;01mimport\u001b[39;00m (\n\u001b[1;32m     29\u001b[0m     PauliTwirl,\n\u001b[1;32m     30\u001b[0m     pauli_transpilation_passes,\n\u001b[1;32m     31\u001b[0m )\n\u001b[1;32m     32\u001b[0m \u001b[38;5;28;01mfrom\u001b[39;00m \u001b[38;5;21;01mqiskit_research\u001b[39;00m\u001b[38;5;21;01m.\u001b[39;00m\u001b[38;5;21;01mutils\u001b[39;00m\u001b[38;5;21;01m.\u001b[39;00m\u001b[38;5;21;01mpulse_scaling\u001b[39;00m \u001b[38;5;28;01mimport\u001b[39;00m (\n\u001b[1;32m     33\u001b[0m     BindParameters,\n\u001b[1;32m     34\u001b[0m     CombineRuns,\n\u001b[0;32m   (...)\u001b[0m\n\u001b[1;32m     37\u001b[0m     pulse_attaching_passes,\n\u001b[1;32m     38\u001b[0m )\n\u001b[1;32m     40\u001b[0m __all__ \u001b[38;5;241m=\u001b[39m [\n\u001b[1;32m     41\u001b[0m     \u001b[38;5;124m\"\u001b[39m\u001b[38;5;124madd_pulse_calibrations\u001b[39m\u001b[38;5;124m\"\u001b[39m,\n\u001b[1;32m     42\u001b[0m     \u001b[38;5;124m\"\u001b[39m\u001b[38;5;124mdynamical_decoupling_passes\u001b[39m\u001b[38;5;124m\"\u001b[39m,\n\u001b[0;32m   (...)\u001b[0m\n\u001b[1;32m     50\u001b[0m     \u001b[38;5;124m\"\u001b[39m\u001b[38;5;124mPauliTwirl\u001b[39m\u001b[38;5;124m\"\u001b[39m,\n\u001b[1;32m     51\u001b[0m ]\n",
      "File \u001b[0;32m~/Documents/codebase/qiskit-research/qiskit_research/utils/pauli_twirling.py:26\u001b[0m, in \u001b[0;36m<module>\u001b[0;34m\u001b[0m\n\u001b[1;32m     21\u001b[0m \u001b[38;5;28;01mfrom\u001b[39;00m \u001b[38;5;21;01mqiskit\u001b[39;00m\u001b[38;5;21;01m.\u001b[39;00m\u001b[38;5;21;01mtranspiler\u001b[39;00m\u001b[38;5;21;01m.\u001b[39;00m\u001b[38;5;21;01mbasepasses\u001b[39;00m \u001b[38;5;28;01mimport\u001b[39;00m BasePass, TransformationPass\n\u001b[1;32m     22\u001b[0m \u001b[38;5;28;01mfrom\u001b[39;00m \u001b[38;5;21;01mqiskit\u001b[39;00m\u001b[38;5;21;01m.\u001b[39;00m\u001b[38;5;21;01mtranspiler\u001b[39;00m\u001b[38;5;21;01m.\u001b[39;00m\u001b[38;5;21;01mpasses\u001b[39;00m \u001b[38;5;28;01mimport\u001b[39;00m (\n\u001b[1;32m     23\u001b[0m     CXCancellation,\n\u001b[1;32m     24\u001b[0m     Optimize1qGatesDecomposition,\n\u001b[1;32m     25\u001b[0m )\n\u001b[0;32m---> 26\u001b[0m \u001b[38;5;28;01mfrom\u001b[39;00m \u001b[38;5;21;01mqiskit_research\u001b[39;00m\u001b[38;5;21;01m.\u001b[39;00m\u001b[38;5;21;01mutils\u001b[39;00m\u001b[38;5;21;01m.\u001b[39;00m\u001b[38;5;21;01mpulse_scaling\u001b[39;00m \u001b[38;5;28;01mimport\u001b[39;00m BASIS_GATES\n\u001b[1;32m     28\u001b[0m I \u001b[38;5;241m=\u001b[39m IGate()\n\u001b[1;32m     29\u001b[0m X \u001b[38;5;241m=\u001b[39m XGate()\n",
      "File \u001b[0;32m~/Documents/codebase/qiskit-research/qiskit_research/utils/pulse_scaling.py:43\u001b[0m, in \u001b[0;36m<module>\u001b[0;34m\u001b[0m\n\u001b[1;32m     37\u001b[0m \u001b[38;5;28;01mfrom\u001b[39;00m \u001b[38;5;21;01mqiskit\u001b[39;00m\u001b[38;5;21;01m.\u001b[39;00m\u001b[38;5;21;01mtranspiler\u001b[39;00m\u001b[38;5;21;01m.\u001b[39;00m\u001b[38;5;21;01mexceptions\u001b[39;00m \u001b[38;5;28;01mimport\u001b[39;00m TranspilerError\n\u001b[1;32m     38\u001b[0m \u001b[38;5;28;01mfrom\u001b[39;00m \u001b[38;5;21;01mqiskit\u001b[39;00m\u001b[38;5;21;01m.\u001b[39;00m\u001b[38;5;21;01mtranspiler\u001b[39;00m\u001b[38;5;21;01m.\u001b[39;00m\u001b[38;5;21;01mpasses\u001b[39;00m \u001b[38;5;28;01mimport\u001b[39;00m (\n\u001b[1;32m     39\u001b[0m     CXCancellation,\n\u001b[1;32m     40\u001b[0m     Optimize1qGatesDecomposition,\n\u001b[1;32m     41\u001b[0m     TemplateOptimization,\n\u001b[1;32m     42\u001b[0m )\n\u001b[0;32m---> 43\u001b[0m \u001b[38;5;28;01mfrom\u001b[39;00m \u001b[38;5;21;01mqiskit\u001b[39;00m\u001b[38;5;21;01m.\u001b[39;00m\u001b[38;5;21;01mtranspiler\u001b[39;00m\u001b[38;5;21;01m.\u001b[39;00m\u001b[38;5;21;01mpasses\u001b[39;00m\u001b[38;5;21;01m.\u001b[39;00m\u001b[38;5;21;01mcalibration\u001b[39;00m\u001b[38;5;21;01m.\u001b[39;00m\u001b[38;5;21;01mbase_builder\u001b[39;00m \u001b[38;5;28;01mimport\u001b[39;00m CalibrationBuilder\n\u001b[1;32m     44\u001b[0m \u001b[38;5;28;01mfrom\u001b[39;00m \u001b[38;5;21;01mqiskit\u001b[39;00m\u001b[38;5;21;01m.\u001b[39;00m\u001b[38;5;21;01mtranspiler\u001b[39;00m\u001b[38;5;21;01m.\u001b[39;00m\u001b[38;5;21;01mpasses\u001b[39;00m\u001b[38;5;21;01m.\u001b[39;00m\u001b[38;5;21;01mcalibration\u001b[39;00m\u001b[38;5;21;01m.\u001b[39;00m\u001b[38;5;21;01mrzx_builder\u001b[39;00m \u001b[38;5;28;01mimport\u001b[39;00m RZXCalibrationBuilder\n\u001b[1;32m     45\u001b[0m \u001b[38;5;28;01mfrom\u001b[39;00m \u001b[38;5;21;01mqiskit_research\u001b[39;00m\u001b[38;5;21;01m.\u001b[39;00m\u001b[38;5;21;01mutils\u001b[39;00m\u001b[38;5;21;01m.\u001b[39;00m\u001b[38;5;21;01mgate_decompositions\u001b[39;00m \u001b[38;5;28;01mimport\u001b[39;00m RZXtoEchoedCR\n",
      "\u001b[0;31mModuleNotFoundError\u001b[0m: No module named 'qiskit.transpiler.passes.calibration.base_builder'"
     ]
    }
   ],
   "source": [
    "from qiskit_research.utils.convenience import scale_cr_pulses\n",
    "\n",
    "theta = Parameter(\"$\\\\theta$\")\n",
    "\n",
    "qc = QuantumCircuit(2)\n",
    "qc.rzz(theta, 0, 1)\n",
    "qc_cx = transpile(qc, basis_gates=[\"rz\", \"sx\", \"cx\"])\n",
    "qc_rzx = scale_cr_pulses(qc_cx, backend)  # unroll_rzx_to_ecr = True, param_bind = {}\n",
    "\n",
    "fig, (ax1, ax2, ax3) = plt.subplots(1, 3, figsize=(15, 6))\n",
    "qc.draw(\"mpl\", ax=ax1)\n",
    "qc_cx.draw(\"mpl\", ax=ax2)\n",
    "qc_rzx.draw(\"mpl\", ax=ax3)\n",
    "ax2.set_title(\"These are all equivalent circuits\")"
   ]
  },
  {
   "cell_type": "markdown",
   "id": "9b78ad89",
   "metadata": {
    "ExecuteTime": {
     "end_time": "2022-06-23T12:54:42.579431Z",
     "start_time": "2022-06-23T12:54:42.268911Z"
    }
   },
   "source": [
    "When we are implementing two-qubit rotation angles $\\theta$ less than $\\pi/2$, we can more efficiently express these interaction in terms of $R_{ZX}(\\theta)$ rotations and directly build them from scaled echoed cross resonance (`secr`($\\theta$)) pulses obtained from the backend, as detailed in [this manuscript](http://arxiv.org/abs/2012.11660). This method first uses a greedy algorithm called [template opimization](http://arxiv.org/abs/1909.05270) to identify parts of the circuit that can be substituted by $R_{ZX}$ rotations. If parameters are passed to the method via `param_bind`, it will bind them to the circuit and attach the necessary pulse gates for implementing the $R_{ZX}$ rotations (otherwise they can be bound and scaled later with `attach_cr_pulses`). Below we will do them separately, because we will attach a series of `Parameter`s as a function of time, and it is more efficient to do the template optimization step once since it is greedy and attaching the pulse schedules in quick."
   ]
  },
  {
   "cell_type": "code",
   "execution_count": null,
   "id": "fb662713",
   "metadata": {
    "ExecuteTime": {
     "end_time": "2022-08-11T13:53:08.783111Z",
     "start_time": "2022-08-11T13:53:08.783102Z"
    }
   },
   "outputs": [],
   "source": [
    "my_layout = scored_layouts[0][0]  # the layout with the lowest score (i.e., error)\n",
    "trot_circ_sca = scale_cr_pulses(\n",
    "    transpile(trot_circ_def, initial_layout=my_layout), backend\n",
    ")\n",
    "trot_circ_sca.draw(\"mpl\", idle_wires=False)"
   ]
  },
  {
   "cell_type": "code",
   "execution_count": null,
   "id": "3412d8ed",
   "metadata": {
    "ExecuteTime": {
     "end_time": "2022-08-11T13:53:08.784016Z",
     "start_time": "2022-08-11T13:53:08.784009Z"
    }
   },
   "outputs": [],
   "source": [
    "from qiskit_research.utils.convenience import attach_cr_pulses\n",
    "\n",
    "num_time_steps = 51\n",
    "t_range = np.linspace(0, 10, num_time_steps)  # values from manuscript\n",
    "param_bind = {JJ: 0.5236, hh: 1}  # values from manuscript\n",
    "\n",
    "circs = []\n",
    "for t_set in t_range:\n",
    "    param_bind[tt] = t_set\n",
    "    circs.append(attach_cr_pulses(trot_circ_sca, backend, param_bind))"
   ]
  },
  {
   "cell_type": "markdown",
   "id": "5bbc0bc4",
   "metadata": {},
   "source": [
    "## Pauli Twirling\n",
    "\n",
    "Pauli twirling is a form of randomized compiling that inserts pairs of Pauli gates (`I`, `X`, `Y`, `Z`) before and after entangling gates such that the overall unitary is the same, but the way it is implemented is different. This has the effect of turning coherent errors into stochastic errors, which can then be elimated by sufficient averaging. This is done a number of times (`num_twirled_circuits`) for the benefit of averaging. **Note:** we are probably using an insufficient basis set to currently cancel all errors."
   ]
  },
  {
   "cell_type": "code",
   "execution_count": null,
   "id": "a1a178b4",
   "metadata": {
    "ExecuteTime": {
     "end_time": "2022-08-11T13:53:08.784437Z",
     "start_time": "2022-08-11T13:53:08.784433Z"
    }
   },
   "outputs": [],
   "source": [
    "from qiskit_research.utils.convenience import add_pauli_twirls\n",
    "\n",
    "num_twirls = 5\n",
    "# this returns a circuit with shape len(circs) x num_twirled_circuits\n",
    "twirled_circs = add_pauli_twirls(\n",
    "    circs, num_twirled_circuits=num_twirls, seed=12345\n",
    ")  # transpile_added_paulis = False"
   ]
  },
  {
   "cell_type": "code",
   "execution_count": null,
   "id": "e65db95c",
   "metadata": {
    "ExecuteTime": {
     "end_time": "2022-08-11T13:53:08.784960Z",
     "start_time": "2022-08-11T13:53:08.784955Z"
    }
   },
   "outputs": [],
   "source": [
    "twirled_circs[-1][-1].draw(\"mpl\", idle_wires=False)"
   ]
  },
  {
   "cell_type": "markdown",
   "id": "1cc0b6e1",
   "metadata": {},
   "source": [
    "Look good! Now before proceeding to dynamical decoupling, we must convert to the native basis gates of the backend so that we can retrieve gate timing information, which is necessary to add dynamical decoupling passes. (Unless you set the keyword argument `transpile_added_paulis=True` in the above). You will also need to run this before running on a backend."
   ]
  },
  {
   "cell_type": "code",
   "execution_count": null,
   "id": "fe6d3bf9",
   "metadata": {
    "ExecuteTime": {
     "end_time": "2022-08-11T13:53:08.785691Z",
     "start_time": "2022-08-11T13:53:08.785686Z"
    }
   },
   "outputs": [],
   "source": [
    "from qiskit_research.utils.convenience import transpile_paulis\n",
    "\n",
    "twirled_circs_t = transpile_paulis(twirled_circs)"
   ]
  },
  {
   "cell_type": "markdown",
   "id": "77ea5e92",
   "metadata": {},
   "source": [
    "## Dynamical Decoupling\n",
    "\n",
    "Dynamical decoupling (DD) is a way of modifying the noise power spectrum $S(\\omega)$ observed by qubits (see [this recent review](https://arxiv.org/abs/2207.03670)), and is typically implemented by a sequence of gates scheduled during a given qubit idle time that compose to the identity with specific delay times to fill the idle time in a calculated manner. Considerations for which sequences to use may involve decoherent error due to idle time versus single-qubit gate errors and/or crosstalk during two-qubit gates. Because the addition of gates is not always in the set of `basis_gates` defined by the backend, `add_pulse_cals=True` uses [Pulse Gates](https://qiskit.org/documentation/tutorials/circuits_advanced/05_pulse_gates.html) to add the correct implementation to the circuit with added DD."
   ]
  },
  {
   "cell_type": "code",
   "execution_count": null,
   "id": "3f421d43",
   "metadata": {
    "ExecuteTime": {
     "end_time": "2022-08-11T13:53:08.786280Z",
     "start_time": "2022-08-11T13:53:08.786276Z"
    }
   },
   "outputs": [],
   "source": [
    "from qiskit_research.utils.convenience import add_dynamical_decoupling\n",
    "\n",
    "twirled_circs_with_dd = add_dynamical_decoupling(\n",
    "    twirled_circs_t, backend, \"XY8\", add_pulse_cals=True\n",
    ")"
   ]
  },
  {
   "cell_type": "code",
   "execution_count": null,
   "id": "61ef6013",
   "metadata": {
    "ExecuteTime": {
     "end_time": "2022-08-11T13:53:08.786983Z",
     "start_time": "2022-08-11T13:53:08.786977Z"
    },
    "scrolled": true
   },
   "outputs": [],
   "source": [
    "from qiskit.visualization import timeline_drawer\n",
    "\n",
    "# this just displays a small range\n",
    "timeline_drawer(twirled_circs_with_dd[-1][-1], time_range=[1, 12000], show_idle=False)"
   ]
  },
  {
   "cell_type": "markdown",
   "id": "c372ad05",
   "metadata": {},
   "source": [
    "## Circuit Execution\n",
    "\n",
    "This runs the given circuits on the backend. This will be expanded to include different methods of running, i.e. Qiskit Runtime. "
   ]
  },
  {
   "cell_type": "code",
   "execution_count": null,
   "id": "85619f03",
   "metadata": {
    "ExecuteTime": {
     "end_time": "2022-08-11T13:53:08.787578Z",
     "start_time": "2022-08-11T13:53:08.787573Z"
    }
   },
   "outputs": [],
   "source": [
    "# the backend only accepts a QuantumCircuit or List[QuantumCircuit]\n",
    "flattened_circs = [\n",
    "    circ for circs in twirled_circs_with_dd for circ in circs\n",
    "]  # first 5 circs are same Pauli twirled circuit at same time\n",
    "counts = backend.run(flattened_circs).result().get_counts()"
   ]
  },
  {
   "cell_type": "markdown",
   "id": "a6a0e63b",
   "metadata": {},
   "source": [
    "## Measurement Error Mitigation\n",
    "\n",
    "This uses `mthree` (matrix-free measurement mitigation) to do $LU$-decomposition on a readout calibration routine to efficently correct for readout errors. Note that `cals_from_system` runs an experiment on your chosen `backend` and then applies it to your results to calculate quasi-probabilities, with the default `num_shots=8192`."
   ]
  },
  {
   "cell_type": "code",
   "execution_count": null,
   "id": "f39910db",
   "metadata": {
    "ExecuteTime": {
     "end_time": "2022-08-11T13:53:08.788145Z",
     "start_time": "2022-08-11T13:53:08.788140Z"
    }
   },
   "outputs": [],
   "source": [
    "from mthree import M3Mitigation\n",
    "\n",
    "mit = M3Mitigation(backend)\n",
    "mit.cals_from_system(my_layout)"
   ]
  },
  {
   "cell_type": "code",
   "execution_count": null,
   "id": "785fd00f",
   "metadata": {
    "ExecuteTime": {
     "end_time": "2022-08-11T13:53:08.789040Z",
     "start_time": "2022-08-11T13:53:08.789034Z"
    }
   },
   "outputs": [],
   "source": [
    "# apply the correction\n",
    "quasi_probs = mit.apply_correction(counts, my_layout)"
   ]
  },
  {
   "cell_type": "code",
   "execution_count": null,
   "id": "651984b6",
   "metadata": {
    "ExecuteTime": {
     "end_time": "2022-08-11T13:53:08.790105Z",
     "start_time": "2022-08-11T13:53:08.790098Z"
    }
   },
   "outputs": [],
   "source": [
    "# collect quasi-probabilities from different Pauli twirls\n",
    "quasi_probs_twirled = []\n",
    "for time_idx in range(num_time_steps):\n",
    "    quasi_prob_twirled = {}\n",
    "    for twidx in range(num_twirls):\n",
    "        for key in quasi_probs[time_idx * num_twirls + twidx].keys():\n",
    "            try:\n",
    "                quasi_prob_twirled[key] += (\n",
    "                    quasi_probs[time_idx * num_twirls + twidx][key] / num_twirls\n",
    "                )\n",
    "            except:\n",
    "                quasi_prob_twirled[key] = (\n",
    "                    quasi_probs[time_idx * num_twirls + twidx][key] / num_twirls\n",
    "                )\n",
    "\n",
    "    quasi_probs_twirled.append(quasi_prob_twirled)"
   ]
  },
  {
   "cell_type": "code",
   "execution_count": null,
   "id": "84123be8",
   "metadata": {
    "ExecuteTime": {
     "end_time": "2022-08-11T13:53:08.790902Z",
     "start_time": "2022-08-11T13:53:08.790897Z"
    }
   },
   "outputs": [],
   "source": [
    "# separate list of dicts into dict of lists\n",
    "quasi_probs_dict = {}\n",
    "for time_step in quasi_probs_twirled:\n",
    "    for key in time_step.keys():\n",
    "        try:\n",
    "            quasi_probs_dict[key].append(time_step[key])\n",
    "        except:\n",
    "            quasi_probs_dict[key] = [time_step[key]]"
   ]
  },
  {
   "cell_type": "code",
   "execution_count": null,
   "id": "d4a97e11",
   "metadata": {
    "ExecuteTime": {
     "end_time": "2022-08-11T13:53:08.791466Z",
     "start_time": "2022-08-11T13:53:08.791462Z"
    }
   },
   "outputs": [],
   "source": [
    "# plot results\n",
    "fig, ax = plt.subplots(figsize=(12, 4))\n",
    "for key in quasi_probs_dict.keys():\n",
    "    ax.plot(t_range, quasi_probs_dict[key], lw=2, label=key)\n",
    "ax.set_xlabel(\"time step (arb)\")\n",
    "ax.set_ylabel(\"quasi-probability\")\n",
    "ax.legend(loc=4)\n",
    "plt.show()"
   ]
  }
 ],
 "metadata": {
  "kernelspec": {
   "display_name": "qiskit (research)",
   "language": "python",
   "name": "qiskit-research"
  },
  "language_info": {
   "codemirror_mode": {
    "name": "ipython",
    "version": 3
   },
   "file_extension": ".py",
   "mimetype": "text/x-python",
   "name": "python",
   "nbconvert_exporter": "python",
   "pygments_lexer": "ipython3",
   "version": "3.9.12"
  },
  "toc": {
   "base_numbering": 1,
   "nav_menu": {},
   "number_sections": true,
   "sideBar": true,
   "skip_h1_title": false,
   "title_cell": "Table of Contents",
   "title_sidebar": "Contents",
   "toc_cell": false,
   "toc_position": {},
   "toc_section_display": true,
   "toc_window_display": false
  }
 },
 "nbformat": 4,
 "nbformat_minor": 5
}
