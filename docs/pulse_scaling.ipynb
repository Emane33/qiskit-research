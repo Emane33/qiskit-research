{
 "cells": [
  {
   "cell_type": "code",
   "execution_count": 1,
   "metadata": {},
   "outputs": [],
   "source": [
    "from qiskit import schedule\n",
    "from qiskit.circuit import Parameter, QuantumCircuit\n",
    "from qiskit.test.mock import FakeMumbai\n",
    "backend = FakeMumbai()"
   ]
  },
  {
   "cell_type": "code",
   "execution_count": 2,
   "metadata": {
    "scrolled": true
   },
   "outputs": [
    {
     "data": {
      "image/png": "[encoded data removed]",
      "text/plain": [
       "<Figure size 507.997x204.68 with 1 Axes>"
      ]
     },
     "execution_count": 2,
     "metadata": {},
     "output_type": "execute_result"
    }
   ],
   "source": [
    "# Latex-like symbols only supported by current versions of my PR 6899 (in template optimization)\n",
    "JJ = Parameter('$J$') # exchange coupling strength\n",
    "hh = Parameter('$h$') # transverse magnetic field\n",
    "dt = Parameter('$dt$') # Trotter step size\n",
    "TT = Parameter('$T$') # total time\n",
    "\n",
    "qc = QuantumCircuit(3)\n",
    "qc.cx(0, 1)\n",
    "qc.rz(-2*JJ*dt, 1)\n",
    "qc.cx(0, 1)\n",
    "qc.rx(2*hh*dt, [0, 1, 2])\n",
    "qc.cx(1, 2)\n",
    "qc.rz(-2*JJ*dt, 2)\n",
    "qc.cx(1, 2)\n",
    "qc.draw(output='mpl')"
   ]
  },
  {
   "cell_type": "code",
   "execution_count": 3,
   "metadata": {},
   "outputs": [
    {
     "data": {
      "image/png": "[encoded data removed]",
      "text/plain": [
       "<Figure size 748.797x204.68 with 1 Axes>"
      ]
     },
     "execution_count": 3,
     "metadata": {},
     "output_type": "execute_result"
    }
   ],
   "source": [
    "from qiskit_research.utils.pulse_scaling import scale_cr_pulses\n",
    "#new_qc = scale_cr_pulses(qc, backend)\n",
    "new_qc = scale_cr_pulses(qc, backend, {JJ: 0.5236, hh: 1, dt: 0.5})\n",
    "new_qc.draw('mpl')"
   ]
  },
  {
   "cell_type": "code",
   "execution_count": 4,
   "metadata": {},
   "outputs": [],
   "source": [
    "#new_sched = schedule(new_qc, backend)\n",
    "#new_sched.draw()"
   ]
  },
  {
   "cell_type": "code",
   "execution_count": 10,
   "metadata": {},
   "outputs": [
    {
     "data": {
      "text/plain": [
       "True"
      ]
     },
     "execution_count": 10,
     "metadata": {},
     "output_type": "execute_result"
    }
   ],
   "source": [
    "from qiskit.quantum_info import Operator\n",
    "#Operator(new_qc.bind_parameters({JJ: 0.5236, hh: 1, dt: 0.5})).equiv(qc.bind_parameters({JJ: 0.5236, hh: 1, dt: 0.5}))\n",
    "Operator(new_qc).equiv(qc.bind_parameters({JJ: 0.5236, hh: 1, dt: 0.5}))"
   ]
  },
  {
   "cell_type": "markdown",
   "metadata": {},
   "source": [
    "## The following are calculations of decompositions "
   ]
  },
  {
   "cell_type": "code",
   "execution_count": null,
   "metadata": {},
   "outputs": [],
   "source": [
    "from qiskit.circuit import QuantumRegister\n",
    "from qiskit.circuit.library import RXGate, RYGate, RZGate, SXGate\n",
    "from qiskit.circuit.equivalence_library import SessionEquivalenceLibrary as sel\n",
    "from qiskit.qasm import pi"
   ]
  },
  {
   "cell_type": "code",
   "execution_count": null,
   "metadata": {},
   "outputs": [],
   "source": [
    "# check this decomposition corrspons to a general RXGate\n",
    "\n",
    "decomp1 = QuantumCircuit(1)\n",
    "decomp1.rz(pi/2, 0)\n",
    "decomp1.sx(0)\n",
    "decomp1.rz(pi + pi/3, 0)\n",
    "decomp1.sx(0)\n",
    "decomp1.rz(pi/2, 0)"
   ]
  },
  {
   "cell_type": "code",
   "execution_count": null,
   "metadata": {
    "scrolled": true
   },
   "outputs": [],
   "source": [
    "qc1 = QuantumCircuit(1)\n",
    "qc1.rx(pi/3, 0)"
   ]
  },
  {
   "cell_type": "code",
   "execution_count": null,
   "metadata": {},
   "outputs": [],
   "source": [
    "Operator(qc1).equiv(Operator(decomp1))"
   ]
  },
  {
   "cell_type": "code",
   "execution_count": null,
   "metadata": {},
   "outputs": [],
   "source": [
    "# check this decomposition corrspons to a general RYGate\n",
    "\n",
    "decomp2 = QuantumCircuit(1)\n",
    "decomp2.sx(0)\n",
    "decomp2.rz(pi + pi/3, 0)\n",
    "decomp2.sx(0)\n",
    "decomp2.rz(pi, 0)"
   ]
  },
  {
   "cell_type": "code",
   "execution_count": null,
   "metadata": {},
   "outputs": [],
   "source": [
    "qc2 = QuantumCircuit(1)\n",
    "qc2.ry(pi/3, 0)"
   ]
  },
  {
   "cell_type": "code",
   "execution_count": null,
   "metadata": {},
   "outputs": [],
   "source": [
    "Operator(qc2).equiv(Operator(decomp2))"
   ]
  },
  {
   "cell_type": "code",
   "execution_count": null,
   "metadata": {},
   "outputs": [],
   "source": [
    "# try adding decomposition to session equivalence library\n",
    "\n",
    "q = QuantumRegister(1, \"q\")\n",
    "theta = Parameter(\"theta\")\n",
    "def_rx = QuantumCircuit(q)\n",
    "def_rx.append(RZGate(pi/2), [q[0]], [])\n",
    "def_rx.append(SXGate(), [q[0]], [])\n",
    "def_rx.append(RZGate(pi + theta), [q[0]], [])\n",
    "def_rx.append(SXGate(), [q[0]], [])\n",
    "def_rx.append(RZGate(pi/2), [q[0]], [])\n",
    "sel.add_equivalence(RXGate(theta), def_rx)"
   ]
  },
  {
   "cell_type": "code",
   "execution_count": null,
   "metadata": {},
   "outputs": [],
   "source": [
    "RXGate(theta).decompositions[0].draw()\n",
    "#RXGate(theta).decompositions[1].draw()"
   ]
  },
  {
   "cell_type": "code",
   "execution_count": null,
   "metadata": {},
   "outputs": [],
   "source": [
    "# forward ecr\n",
    "\n",
    "qc = 0\n",
    "qt = 1\n",
    "\n",
    "cx_f_sched = QuantumCircuit(2)\n",
    "cx_f_sched.cx(qc, qt)\n",
    "\n",
    "rzx_f_sched = QuantumCircuit(2)\n",
    "rzx_f_sched.sdg(qc)\n",
    "rzx_f_sched.y(qc)\n",
    "rzx_f_sched.sx(qt)\n",
    "\n",
    "# begin ecr\n",
    "rzx_f_sched.rzx(pi/2, qc, qt)\n",
    "rzx_f_sched.x(qc) # echo control back\n",
    "# end ecr"
   ]
  },
  {
   "cell_type": "code",
   "execution_count": null,
   "metadata": {},
   "outputs": [],
   "source": [
    "import matplotlib.pyplot as plt\n",
    "plt.style.use('dark_background')\n",
    "cx_01 = backend.defaults().instruction_schedule_map.get('cx', qubits=[0, 1])\n",
    "cx_10 = backend.defaults().instruction_schedule_map.get('cx', qubits=[1, 0])"
   ]
  },
  {
   "cell_type": "code",
   "execution_count": null,
   "metadata": {},
   "outputs": [],
   "source": [
    "cx_10.draw()"
   ]
  },
  {
   "cell_type": "code",
   "execution_count": null,
   "metadata": {},
   "outputs": [],
   "source": [
    "Operator(rzx_f_sched).equiv(Operator(cx_f_sched))"
   ]
  },
  {
   "cell_type": "code",
   "execution_count": null,
   "metadata": {},
   "outputs": [],
   "source": [
    "# reverse ecr\n",
    "\n",
    "cx_r_sched = QuantumCircuit(2)\n",
    "cx_r_sched.cx(qt, qc)\n",
    "\n",
    "rzx_r_sched = QuantumCircuit(2)\n",
    "rzx_r_sched.s(qc)\n",
    "rzx_r_sched.sx(qc)\n",
    "rzx_r_sched.z(qt)\n",
    "rzx_r_sched.ry(pi/2, qt)\n",
    "\n",
    "# begin ecr\n",
    "rzx_r_sched.rzx(pi/2, qc, qt) # forward ecr (reverse of CNOT direction)\n",
    "rzx_r_sched.x(qc) # echo target back\n",
    "# end ecr\n",
    "\n",
    "rzx_r_sched.ry(-pi/2, qc)\n",
    "rzx_r_sched.s(qt)\n",
    "rzx_r_sched.sx(qt)"
   ]
  },
  {
   "cell_type": "code",
   "execution_count": null,
   "metadata": {},
   "outputs": [],
   "source": [
    "cx_r_sched.draw()"
   ]
  },
  {
   "cell_type": "code",
   "execution_count": null,
   "metadata": {},
   "outputs": [],
   "source": [
    "Operator(rzx_r_sched).equiv(Operator(cx_r_sched))"
   ]
  },
  {
   "cell_type": "code",
   "execution_count": null,
   "metadata": {},
   "outputs": [],
   "source": [
    "# rzx in terms of rxz\n",
    "\n",
    "rzx = QuantumCircuit(2)\n",
    "rzx.h(0)\n",
    "rzx.h(1)\n",
    "rzx.rzx(pi/3, 0, 1)\n",
    "rzx.h(0)\n",
    "rzx.h(1)\n",
    "\n",
    "rxz = QuantumCircuit(2)\n",
    "rxz.rzx(pi/3, 1, 0)"
   ]
  },
  {
   "cell_type": "code",
   "execution_count": null,
   "metadata": {},
   "outputs": [],
   "source": [
    "Operator(rzx).equiv(Operator(rxz))"
   ]
  },
  {
   "cell_type": "code",
   "execution_count": null,
   "metadata": {
    "scrolled": true
   },
   "outputs": [],
   "source": [
    "rxz.draw('mpl')"
   ]
  },
  {
   "cell_type": "code",
   "execution_count": null,
   "metadata": {},
   "outputs": [],
   "source": [
    "import qiskit.tools.jupyter\n",
    "%qiskit_version_table"
   ]
  }
 ],
 "metadata": {
  "kernelspec": {
   "display_name": "qiskit (research)",
   "language": "python",
   "name": "qiskit-research"
  },
  "language_info": {
   "codemirror_mode": {
    "name": "ipython",
    "version": 3
   },
   "file_extension": ".py",
   "mimetype": "text/x-python",
   "name": "python",
   "nbconvert_exporter": "python",
   "pygments_lexer": "ipython3",
   "version": "3.9.10"
  },
  "toc": {
   "base_numbering": 1,
   "nav_menu": {},
   "number_sections": true,
   "sideBar": true,
   "skip_h1_title": false,
   "title_cell": "Table of Contents",
   "title_sidebar": "Contents",
   "toc_cell": false,
   "toc_position": {},
   "toc_section_display": true,
   "toc_window_display": false
  }
 },
 "nbformat": 4,
 "nbformat_minor": 4
}
