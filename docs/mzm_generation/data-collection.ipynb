{
 "cells": [
  {
   "cell_type": "code",
   "execution_count": 1,
   "id": "53e9839f-e320-4fd7-8b0b-05ec22461daa",
   "metadata": {},
   "outputs": [],
   "source": [
    "import datetime\n",
    "import os\n",
    "import mthree\n",
    "import numpy as np\n",
    "from qiskit import IBMQ\n",
    "from qiskit.providers.ibmq import IBMQBackend\n",
    "from qiskit.providers.aer import AerSimulator\n",
    "from qiskit.providers.aer.noise import NoiseModel\n",
    "from qiskit_research.mzm_generation import KitaevHamiltonianExperiment\n",
    "from qiskit_research.mzm_generation.utils import pick_qubit_layout, orbital_combinations"
   ]
  },
  {
   "cell_type": "code",
   "execution_count": 2,
   "id": "f1abedc6-820d-4f74-8aa9-714b2a07f0cd",
   "metadata": {},
   "outputs": [],
   "source": [
    "# get backend\n",
    "\n",
    "# hardware backend\n",
    "# IBMQ.load_account()\n",
    "# provider = IBMQ.get_provider(hub='ibm-q-internal', group='deployed', project='default')\n",
    "# backend = provider.get_backend('ibmq_guadalupe')\n",
    "\n",
    "# Aer simulator backend\n",
    "# noise_model = NoiseModel.from_backend(backend)\n",
    "# backend = AerSimulator(method='density_matrix', noise_model=noise_model)\n",
    "backend = AerSimulator(method='statevector')"
   ]
  },
  {
   "cell_type": "code",
   "execution_count": 3,
   "id": "381df658-1296-4972-9baa-e6af393139af",
   "metadata": {},
   "outputs": [
    {
     "name": "stdout",
     "output_type": "stream",
     "text": [
      "Using qubits [0, 1, 2, 3, 4].\n"
     ]
    }
   ],
   "source": [
    "# Hamiltonian parameters\n",
    "n_modes = 5\n",
    "tunneling_values = [-1.0]\n",
    "superconducting_values = [1.0]\n",
    "chemical_potential_values = np.linspace(0.0, 3.0, num=5)\n",
    "occupied_orbitals_list = list(orbital_combinations(n_modes, threshold=2))\n",
    "\n",
    "# qubits\n",
    "# qubits, backend_name, error_score = pick_qubit_layout(n_modes, [backend])\n",
    "qubits = list(range(n_modes))\n",
    "print(f'Using qubits {qubits}.')\n",
    "\n",
    "# number of shots\n",
    "shots = 100000\n",
    "\n",
    "# number of shots for readout error calibration\n",
    "readout_calibration_shots = 100000\n",
    "\n",
    "# date\n",
    "date = datetime.datetime.now().isoformat()\n",
    "\n",
    "# create experiments\n",
    "experiment = KitaevHamiltonianExperiment(\n",
    "    experiment_id=f'{date}_{backend.name()}',\n",
    "    backend=backend,\n",
    "    readout_calibration_date=date,\n",
    "    qubits=qubits,\n",
    "    tunneling_values=tunneling_values,\n",
    "    superconducting_values=superconducting_values,\n",
    "    chemical_potential_values=chemical_potential_values,\n",
    "    occupied_orbitals_list=occupied_orbitals_list,\n",
    "    # dynamical_decoupling_sequences=['XY4pm']\n",
    ")"
   ]
  },
  {
   "cell_type": "code",
   "execution_count": 4,
   "id": "9702acc6-535d-426c-9791-f116f14f8790",
   "metadata": {},
   "outputs": [
    {
     "name": "stdout",
     "output_type": "stream",
     "text": [
      "Scheduling readout calibration ...\n",
      "Scheduling experiment ...\n",
      "Waiting for readout calibration data ...\n",
      "Readout calibration saved.\n",
      "CPU times: user 15.9 s, sys: 124 ms, total: 16.1 s\n",
      "Wall time: 16.4 s\n"
     ]
    }
   ],
   "source": [
    "%%time\n",
    "\n",
    "# schedule readout calibration\n",
    "print('Scheduling readout calibration ...')\n",
    "mit = mthree.M3Mitigation(backend)\n",
    "mit.cals_from_system(qubits, shots=readout_calibration_shots)\n",
    "# schedule experiment jobs\n",
    "print(f'Scheduling experiment ...')\n",
    "# limit number of circuits per job to avoid timeouts\n",
    "backend.configuration().max_experiments = 150\n",
    "data = experiment.run(shots=shots)\n",
    "if isinstance(backend, IBMQBackend):\n",
    "    data.save()\n",
    "\n",
    "# save readout calibration\n",
    "filename = f'data/readout_calibration/{backend.name()}/{date}.json'\n",
    "os.makedirs(os.path.dirname(filename), exist_ok=True)\n",
    "print(f'Waiting for readout calibration data ...')\n",
    "mit.cals_to_file(filename)\n",
    "print(f'Readout calibration saved.')"
   ]
  },
  {
   "cell_type": "code",
   "execution_count": 5,
   "id": "51a7e362-28ee-4c02-a238-b52f14a34485",
   "metadata": {
    "tags": []
   },
   "outputs": [],
   "source": [
    "# wait for experiment results\n",
    "# data.block_for_results()\n",
    "\n",
    "# TODO save data locally once it's supported\n",
    "# See https://github.com/Qiskit/qiskit-experiments/issues/602"
   ]
  },
  {
   "cell_type": "code",
   "execution_count": 6,
   "id": "b9da0420-d640-49a1-989f-4a36145dc5f5",
   "metadata": {},
   "outputs": [],
   "source": [
    "# TODO split off into analysis notebook once Qiskit Experiments supports saving data\n",
    "# See https://github.com/Qiskit/qiskit-experiments/issues/602\n",
    "import os\n",
    "import matplotlib.pyplot as plt\n",
    "import numpy as np\n",
    "from qiskit import IBMQ\n",
    "from qiskit_experiments.framework import ExperimentData\n",
    "from qiskit_nature.mappers.second_quantization import JordanWignerMapper\n",
    "from qiskit_nature.converters.second_quantization.qubit_converter import QubitConverter\n",
    "from qiskit_research.mzm_generation import KitaevHamiltonianAnalysis\n",
    "np.set_printoptions(precision=3, suppress=True, linewidth=150)"
   ]
  },
  {
   "cell_type": "code",
   "execution_count": 10,
   "id": "44163d68-2ce4-4062-96ae-9cbdeb55bce8",
   "metadata": {},
   "outputs": [
    {
     "name": "stdout",
     "output_type": "stream",
     "text": [
      "CPU times: user 32.8 s, sys: 653 ms, total: 33.5 s\n",
      "Wall time: 8.77 s\n"
     ]
    }
   ],
   "source": [
    "%%time\n",
    "experiment_id = data.metadata[\"experiment_id\"]\n",
    "qubits = data.metadata[\"qubits\"]\n",
    "n_modes = len(qubits)\n",
    "tunneling_values = data.metadata[\"tunneling_values\"]\n",
    "superconducting_values = data.metadata[\"superconducting_values\"]\n",
    "chemical_potential_values = data.metadata[\"chemical_potential_values\"]\n",
    "\n",
    "# run analysis\n",
    "analysis = KitaevHamiltonianAnalysis()\n",
    "data = analysis.run(data)\n",
    "\n",
    "energy_error_raw, energy_error_stddev_raw = data.analysis_results('energy_error_raw').value\n",
    "energy_error_mem, energy_error_stddev_mem = data.analysis_results('energy_error_mem').value\n",
    "energy_error_ps, energy_error_stddev_ps = data.analysis_results('energy_error_ps').value\n",
    "energy_error_pur, energy_error_stddev_pur = data.analysis_results('energy_error_pur').value\n",
    "\n",
    "bdg_energy_error_raw, bdg_energy_error_stddev_raw = data.analysis_results('bdg_energy_error_raw').value\n",
    "bdg_energy_error_mem, bdg_energy_error_stddev_mem = data.analysis_results('bdg_energy_error_mem').value\n",
    "bdg_energy_error_ps, bdg_energy_error_stddev_ps = data.analysis_results('bdg_energy_error_ps').value\n",
    "bdg_energy_error_pur, bdg_energy_error_stddev_pur = data.analysis_results('bdg_energy_error_pur').value"
   ]
  }
 ],
 "metadata": {
  "kernelspec": {
   "display_name": "qiskit-research",
   "language": "python",
   "name": "qiskit-research"
  },
  "language_info": {
   "codemirror_mode": {
    "name": "ipython",
    "version": 3
   },
   "file_extension": ".py",
   "mimetype": "text/x-python",
   "name": "python",
   "nbconvert_exporter": "python",
   "pygments_lexer": "ipython3",
   "version": "3.9.10"
  }
 },
 "nbformat": 4,
 "nbformat_minor": 5
}
