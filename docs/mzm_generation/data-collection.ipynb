{
 "cells": [
  {
   "cell_type": "code",
   "execution_count": 1,
   "id": "53e9839f-e320-4fd7-8b0b-05ec22461daa",
   "metadata": {},
   "outputs": [],
   "source": [
    "import datetime\n",
    "import json\n",
    "import os\n",
    "import mthree\n",
    "import numpy as np\n",
    "from qiskit import IBMQ\n",
    "from qiskit.providers.ibmq import IBMQBackend\n",
    "from qiskit.providers.aer import AerSimulator\n",
    "from qiskit.providers.aer.noise import NoiseModel\n",
    "from qiskit_experiments.framework import ExperimentEncoder\n",
    "from qiskit_research.mzm_generation import KitaevHamiltonianExperiment\n",
    "from qiskit_research.mzm_generation.utils import pick_qubit_layout, orbital_combinations"
   ]
  },
  {
   "cell_type": "code",
   "execution_count": 2,
   "id": "f1abedc6-820d-4f74-8aa9-714b2a07f0cd",
   "metadata": {},
   "outputs": [],
   "source": [
    "# get backend\n",
    "\n",
    "# hardware backend\n",
    "IBMQ.load_account()\n",
    "provider = IBMQ.get_provider(hub='ibm-q-internal', group='deployed', project='default')\n",
    "backend = provider.get_backend('ibm_cairo')\n",
    "\n",
    "# Aer simulator backend\n",
    "# noise_model = NoiseModel.from_backend(backend)\n",
    "# backend = AerSimulator(method='density_matrix', noise_model=noise_model)\n",
    "# backend = AerSimulator()"
   ]
  },
  {
   "cell_type": "code",
   "execution_count": 5,
   "id": "381df658-1296-4972-9baa-e6af393139af",
   "metadata": {},
   "outputs": [
    {
     "name": "stdout",
     "output_type": "stream",
     "text": [
      "Using qubits [22, 19, 16, 14, 13].\n"
     ]
    }
   ],
   "source": [
    "# Hamiltonian parameters\n",
    "n_modes = 5\n",
    "tunneling_values = [-1.0]\n",
    "superconducting_values = [1.0]\n",
    "chemical_potential_values = np.linspace(0.0, 3.0, num=5)\n",
    "occupied_orbitals_list = list(orbital_combinations(n_modes, threshold=2))\n",
    "\n",
    "# qubits\n",
    "qubits, backend_name, error_score = pick_qubit_layout(n_modes, [backend])\n",
    "# qubits = list(range(n_modes))\n",
    "print(f'Using qubits {qubits}.')\n",
    "\n",
    "# number of shots\n",
    "shots = 100000\n",
    "\n",
    "# number of shots for readout error calibration\n",
    "readout_calibration_shots = 100000\n",
    "\n",
    "# date\n",
    "date = datetime.datetime.now().isoformat()\n",
    "\n",
    "# experiment id for saving data\n",
    "experiment_id = f'{date}_{backend.name()}'\n",
    "\n",
    "# create experiments\n",
    "experiment = KitaevHamiltonianExperiment(\n",
    "    experiment_id=experiment_id,\n",
    "    backend=backend,\n",
    "    readout_calibration_date=date,\n",
    "    qubits=qubits,\n",
    "    tunneling_values=tunneling_values,\n",
    "    superconducting_values=superconducting_values,\n",
    "    chemical_potential_values=chemical_potential_values,\n",
    "    occupied_orbitals_list=occupied_orbitals_list,\n",
    "    dynamical_decoupling_sequences=['XY4pm']\n",
    ")"
   ]
  },
  {
   "cell_type": "code",
   "execution_count": null,
   "id": "9702acc6-535d-426c-9791-f116f14f8790",
   "metadata": {},
   "outputs": [
    {
     "name": "stdout",
     "output_type": "stream",
     "text": [
      "Scheduling readout calibration ...\n",
      "Scheduling experiment ...\n",
      "You can view the experiment online at https://quantum-computing.ibm.com/experiments/1e8c9b77-2dce-4b1e-a528-9e1ee789a6be\n",
      "Waiting for readout calibration data ...\n"
     ]
    }
   ],
   "source": [
    "%%time\n",
    "\n",
    "# schedule readout calibration\n",
    "print('Scheduling readout calibration ...')\n",
    "mit = mthree.M3Mitigation(backend)\n",
    "mit.cals_from_system(qubits, shots=readout_calibration_shots, async_cal=True)\n",
    "\n",
    "# schedule experiment jobs\n",
    "print(f'Scheduling experiment ...')\n",
    "# limit number of circuits per job to avoid timeouts\n",
    "backend.configuration().max_experiments = 150\n",
    "data = experiment.run(shots=shots)\n",
    "if isinstance(backend, IBMQBackend):\n",
    "    # this only works if the Qiskit Experiments database service is available\n",
    "    data.save()\n",
    "\n",
    "# save readout calibration\n",
    "filename = f'data/readout_calibration/{backend.name()}/{date}.json'\n",
    "os.makedirs(os.path.dirname(filename), exist_ok=True)\n",
    "print(f'Waiting for readout calibration data ...')\n",
    "mit.cals_to_file(filename)\n",
    "print(f'Readout calibration saved.')"
   ]
  },
  {
   "cell_type": "code",
   "execution_count": null,
   "id": "23f959b0-0999-475e-b3c9-b962089e392c",
   "metadata": {},
   "outputs": [],
   "source": [
    "# wait for experiment results\n",
    "data.block_for_results()\n",
    "\n",
    "# save data\n",
    "filename = f'data/{experiment_id}.json'\n",
    "os.makedirs(os.path.dirname(filename), exist_ok=True)\n",
    "with open(filename, 'w') as f:\n",
    "    json.dump(data, f, cls=ExperimentEncoder)\n",
    "\n",
    "print(experiment_id)"
   ]
  }
 ],
 "metadata": {
  "kernelspec": {
   "display_name": "qiskit-research",
   "language": "python",
   "name": "qiskit-research"
  },
  "language_info": {
   "codemirror_mode": {
    "name": "ipython",
    "version": 3
   },
   "file_extension": ".py",
   "mimetype": "text/x-python",
   "name": "python",
   "nbconvert_exporter": "python",
   "pygments_lexer": "ipython3",
   "version": "3.9.10"
  }
 },
 "nbformat": 4,
 "nbformat_minor": 5
}
