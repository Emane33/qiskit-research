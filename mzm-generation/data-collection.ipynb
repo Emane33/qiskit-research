{
 "cells": [
  {
   "cell_type": "code",
   "execution_count": 1,
   "id": "c79f00dd-8f3e-499b-a8a2-a77f5fbe52ef",
   "metadata": {},
   "outputs": [],
   "source": [
    "import datetime\n",
    "import itertools\n",
    "import numpy as np\n",
    "from qiskit import Aer, IBMQ\n",
    "from qiskit.providers.ibmq import IBMQBackend, IBMQJob\n",
    "from mzm_generation import (\n",
    "    KitaevHamiltonianTask,\n",
    "    MeasurementErrorCalibrationTask,\n",
    "    run_kitaev_hamiltonian_task,\n",
    "    run_measurement_error_calibration_task,\n",
    "    run_measurement_error_correction,\n",
    "    save\n",
    ")"
   ]
  },
  {
   "cell_type": "code",
   "execution_count": 2,
   "id": "ca33e899-8d2b-4984-a944-bbd8d794237c",
   "metadata": {
    "tags": []
   },
   "outputs": [],
   "source": [
    "# get backend\n",
    "IBMQ.load_account()\n",
    "provider = IBMQ.get_provider(hub='ibm-q-internal', group='deployed', project='default')\n",
    "hardware_backend = provider.get_backend('ibmq_manila')\n",
    "simulator_backend = Aer.get_backend(\"statevector_simulator\")"
   ]
  },
  {
   "cell_type": "code",
   "execution_count": 3,
   "id": "f8053b02-f075-4174-806e-6ca7eace12b7",
   "metadata": {},
   "outputs": [],
   "source": [
    "# set parameters\n",
    "\n",
    "# number of modes\n",
    "n_modes = 3\n",
    "\n",
    "# x values\n",
    "num = 20\n",
    "x_min = 1e-8\n",
    "x_max = 3.1\n",
    "x_values = np.linspace(x_min, x_max, num=num)\n",
    "\n",
    "# backend\n",
    "backend = simulator_backend\n",
    "\n",
    "# qubits\n",
    "# TODO choose qubits that minimize error rate\n",
    "qubits = [0, 1, 2]\n",
    "\n",
    "# number of shots\n",
    "shots = 10000\n",
    "\n",
    "# number of shots for measurement error calibration\n",
    "measurement_error_calibration_shots = 50000\n",
    "\n",
    "# experiment id used for saving data\n",
    "experiment_id = f'{datetime.datetime.now().isoformat()}_{backend.name()}'"
   ]
  },
  {
   "cell_type": "code",
   "execution_count": 4,
   "id": "5d977999-aa2e-47ad-8314-96793c85d3c2",
   "metadata": {},
   "outputs": [],
   "source": [
    "# generate tasks\n",
    "tasks = []\n",
    "for chemical_potential in x_values:\n",
    "    for n_particles in range(n_modes + 1):\n",
    "        for occupied_orbitals in itertools.combinations(range(n_modes), n_particles):\n",
    "            task = KitaevHamiltonianTask(\n",
    "                experiment_id=experiment_id,\n",
    "                n_modes=n_modes,\n",
    "                tunneling=-1.0,\n",
    "                superconducting=1.0,\n",
    "                chemical_potential=chemical_potential,\n",
    "                occupied_orbitals=occupied_orbitals,\n",
    "                shots=shots)\n",
    "            tasks.append(task)"
   ]
  },
  {
   "cell_type": "code",
   "execution_count": 5,
   "id": "7846ee48-40e3-4032-ab41-d8a3dfc17532",
   "metadata": {},
   "outputs": [],
   "source": [
    "# run measurement error calibration\n",
    "if isinstance(backend, IBMQBackend):\n",
    "    measurement_error_calibration_task = MeasurementErrorCalibrationTask(experiment_id, shots=measurement_error_calibration_shots)\n",
    "    run_measurement_error_calibration_task(measurement_error_calibration_task, backend, qubits)"
   ]
  },
  {
   "cell_type": "code",
   "execution_count": 6,
   "id": "0a6e7426-32e4-4e78-b987-29b4f9e113b2",
   "metadata": {},
   "outputs": [],
   "source": [
    "# schedule jobs\n",
    "# TODO save job information so they can be retrieved from provider later\n",
    "jobs = []\n",
    "for task in tasks:\n",
    "    job = run_kitaev_hamiltonian_task(task, backend, qubits)\n",
    "    jobs.append((task, job))"
   ]
  },
  {
   "cell_type": "code",
   "execution_count": null,
   "id": "36fabe52-d374-46d4-a600-30f08d9cb597",
   "metadata": {},
   "outputs": [],
   "source": [
    "# save results\n",
    "for task, job in jobs:\n",
    "    measurements = dict(zip(task.pauli_strings(), job.result().get_counts()))\n",
    "    data = {\n",
    "        'measurements': measurements\n",
    "    }\n",
    "    save(task, data)"
   ]
  },
  {
   "cell_type": "code",
   "execution_count": 5,
   "id": "5734235c-e0ff-46dd-b628-82e926ec87e5",
   "metadata": {},
   "outputs": [],
   "source": [
    "# run measurement error mitigation and save results\n",
    "for task in tasks:\n",
    "    run_measurement_error_correction(measurement_error_calibration_task, task, qubits)"
   ]
  }
 ],
 "metadata": {
  "kernelspec": {
   "display_name": "qiskit-research-reviews",
   "language": "python",
   "name": "qiskit-research-reviews"
  },
  "language_info": {
   "codemirror_mode": {
    "name": "ipython",
    "version": 3
   },
   "file_extension": ".py",
   "mimetype": "text/x-python",
   "name": "python",
   "nbconvert_exporter": "python",
   "pygments_lexer": "ipython3",
   "version": "3.8.12"
  }
 },
 "nbformat": 4,
 "nbformat_minor": 5
}
