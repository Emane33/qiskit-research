{
 "cells": [
  {
   "cell_type": "code",
   "execution_count": 1,
   "id": "c79f00dd-8f3e-499b-a8a2-a77f5fbe52ef",
   "metadata": {},
   "outputs": [],
   "source": [
    "import datetime\n",
    "import itertools\n",
    "import numpy as np\n",
    "from qiskit import Aer, IBMQ, QuantumCircuit, transpile\n",
    "from mzm_generation import KitaevHamiltonianTask, run_task, save"
   ]
  },
  {
   "cell_type": "code",
   "execution_count": 2,
   "id": "ca33e899-8d2b-4984-a944-bbd8d794237c",
   "metadata": {
    "tags": []
   },
   "outputs": [],
   "source": [
    "# get backend\n",
    "IBMQ.load_account()\n",
    "provider = IBMQ.get_provider(hub='ibm-q-internal', group='deployed', project='default')\n",
    "hardware_backend = provider.get_backend('ibmq_manila')\n",
    "simulator_backend = Aer.get_backend(\"statevector_simulator\")"
   ]
  },
  {
   "cell_type": "code",
   "execution_count": 3,
   "id": "f8053b02-f075-4174-806e-6ca7eace12b7",
   "metadata": {},
   "outputs": [],
   "source": [
    "# set parameters\n",
    "\n",
    "# number of modes\n",
    "n_modes = 3\n",
    "\n",
    "# x values\n",
    "num = 20\n",
    "x_min = 1e-7\n",
    "x_max = 3.0\n",
    "x_values = np.linspace(x_min, x_max, num=num)\n",
    "\n",
    "# backend\n",
    "backend = hardware_backend\n",
    "\n",
    "# number of shots\n",
    "shots = 10000\n",
    "\n",
    "# experiment id used for saving data\n",
    "experiment_id = datetime.datetime.now().isoformat()\n",
    "if backend is simulator_backend:\n",
    "    experiment_id += '_sim'"
   ]
  },
  {
   "cell_type": "code",
   "execution_count": 4,
   "id": "5d977999-aa2e-47ad-8314-96793c85d3c2",
   "metadata": {},
   "outputs": [],
   "source": [
    "# generate tasks\n",
    "tasks = []\n",
    "for chemical_potential in x_values:\n",
    "    for n_particles in range(n_modes + 1):\n",
    "        for occupied_orbitals in itertools.combinations(range(n_modes), n_particles):\n",
    "            task = KitaevHamiltonianTask(\n",
    "                experiment_id=experiment_id,\n",
    "                n_modes=n_modes,\n",
    "                tunneling=-1.0,\n",
    "                superconducting=1.0,\n",
    "                chemical_potential=chemical_potential,\n",
    "                occupied_orbitals=occupied_orbitals,\n",
    "                shots=shots)\n",
    "            tasks.append(task)"
   ]
  },
  {
   "cell_type": "code",
   "execution_count": 5,
   "id": "0a6e7426-32e4-4e78-b987-29b4f9e113b2",
   "metadata": {},
   "outputs": [],
   "source": [
    "# run jobs\n",
    "jobs = {}\n",
    "for task in tasks:\n",
    "    jobs[task] = run_task(backend, task)"
   ]
  },
  {
   "cell_type": "code",
   "execution_count": 6,
   "id": "36fabe52-d374-46d4-a600-30f08d9cb597",
   "metadata": {},
   "outputs": [],
   "source": [
    "# save results\n",
    "for task, job in jobs.items():\n",
    "    data = job.result().get_counts()\n",
    "    save(task, data)"
   ]
  }
 ],
 "metadata": {
  "kernelspec": {
   "display_name": "qiskit-dev",
   "language": "python",
   "name": "qiskit-dev"
  },
  "language_info": {
   "codemirror_mode": {
    "name": "ipython",
    "version": 3
   },
   "file_extension": ".py",
   "mimetype": "text/x-python",
   "name": "python",
   "nbconvert_exporter": "python",
   "pygments_lexer": "ipython3",
   "version": "3.9.7"
  }
 },
 "nbformat": 4,
 "nbformat_minor": 5
}
