{
 "cells": [
  {
   "cell_type": "markdown",
   "id": "28705532",
   "metadata": {},
   "source": [
    "This notebooks seeks to replicate the results in [\"Exact solution and Majorana zero mode generation on a Kitaev chain composed out of noisy qubits\"](https://arxiv.org/abs/2108.07235), and will attempt to use native Qiskit modules in functionality as well as achieve some \"best practices\" when running on actual IBM backends."
   ]
  },
  {
   "cell_type": "markdown",
   "id": "54785ccb",
   "metadata": {},
   "source": [
    "## Prerequisites"
   ]
  },
  {
   "cell_type": "code",
   "execution_count": 1,
   "id": "e28c9c87",
   "metadata": {},
   "outputs": [],
   "source": [
    "run_experiment = False\n",
    "dynamical_decoupling = True\n",
    "meas_error_mitigation = False\n",
    "pulse_scaling = True"
   ]
  },
  {
   "cell_type": "markdown",
   "id": "d04c8638",
   "metadata": {},
   "source": [
    "### Load Qiskit and Required Libraries"
   ]
  },
  {
   "cell_type": "code",
   "execution_count": 2,
   "id": "ddac59b5",
   "metadata": {},
   "outputs": [],
   "source": [
    "from qiskit import IBMQ, transpile, assemble, schedule\n",
    "from qiskit.circuit import Parameter, QuantumCircuit, QuantumRegister, ClassicalRegister\n",
    "from qiskit.circuit.library import XGate, YGate\n",
    "from qiskit.quantum_info import Operator, Statevector\n",
    "\n",
    "from qiskit_nature.operators.second_quantization import FermionicOp\n",
    "from qiskit_nature.mappers.second_quantization import JordanWignerMapper\n",
    "from qiskit_nature.converters.second_quantization.qubit_converter import QubitConverter\n",
    "\n",
    "from qiskit.opflow import (I, X, Y, Z, Zero, One, MatrixEvolution, PauliTrotterEvolution, Suzuki,\n",
    "                           StateFn, Zero, One, PauliExpectation, PauliOp, SummedOp, OperatorBase)\n",
    "\n",
    "from qiskit.transpiler import PassManager, InstructionDurations\n",
    "from qiskit.transpiler.passes import TemplateOptimization, ALAPSchedule, DynamicalDecoupling\n",
    "from qiskit.transpiler.passes.calibration import RZXCalibrationBuilder, rzx_templates\n",
    "\n",
    "from qiskit.converters import circuit_to_dag, dag_to_circuit # for bespoke transpilation\n",
    "from qiskit.dagcircuit import DAGCircuit, DAGNode\n",
    "\n",
    "from qiskit.scheduler.config import ScheduleConfig\n",
    "from qiskit.visualization import plot_circuit_layout, plot_error_map, timeline_drawer\n",
    "\n",
    "import copy\n",
    "import numpy as np\n",
    "import scipy.linalg as lng\n",
    "import matplotlib.pyplot as plt\n",
    "plt.style.use('dark_background')\n",
    "plt.rcParams['figure.figsize'] = [5, 5]"
   ]
  },
  {
   "cell_type": "markdown",
   "id": "0ccdc244",
   "metadata": {},
   "source": [
    "### Load IBM Quantum Account"
   ]
  },
  {
   "cell_type": "code",
   "execution_count": 3,
   "id": "6a00a8e7",
   "metadata": {},
   "outputs": [],
   "source": [
    "IBMQ.load_account()\n",
    "provider = IBMQ.get_provider(hub='ibm-q-internal', group='deployed', project='default')\n",
    "backend = provider.get_backend('ibm_lagos')"
   ]
  },
  {
   "cell_type": "markdown",
   "id": "ddfde2b6",
   "metadata": {},
   "source": [
    "### Load Backend Information (for Pulse)"
   ]
  },
  {
   "cell_type": "code",
   "execution_count": 4,
   "id": "d525e65c",
   "metadata": {},
   "outputs": [],
   "source": [
    "backend_config = backend.configuration()\n",
    "dt = backend_config.dt\n",
    "meas_map = backend_config.meas_map\n",
    "\n",
    "backend_defaults = backend.defaults()\n",
    "inst_sched_map = backend_defaults.instruction_schedule_map\n",
    "\n",
    "sched_config = ScheduleConfig(inst_sched_map, meas_map, dt)"
   ]
  },
  {
   "cell_type": "markdown",
   "id": "870cdcb0",
   "metadata": {},
   "source": [
    "# Build Circuits from Model Hamiltonian"
   ]
  },
  {
   "cell_type": "markdown",
   "id": "6e7226cb",
   "metadata": {},
   "source": [
    "## Define the System Hamiltonian\n",
    "\n",
    "The full $n$-site Kitaev Hamiltonian is given by\n",
    "$$\n",
    "H = \\sum_{k=1, n} \\mu_k c_k^\\dagger c_k - \\sum_{\\langle kj \\rangle} \\left(\n",
    "t_{kj} c_k^\\dagger c_j + t_{jk} c_j^\\dagger c_k - \\Delta_{kj} c_k^\\dagger c_j^\\dagger - \\Delta_{kj} c_j c_k\\right),\n",
    "$$\n",
    "and for simplicity no local variations will be assumed, i.e. $\\mu_k \\equiv \\mu, t_{kj} \\equiv t, \\Delta_{kj} \\equiv \\Delta$. A number of expectation values will be calculated/simulated from the \"exactly [prepared] eigenstates of quadratic Hamiltonians\" (see below), namely energy\n",
    "$$ E = \\langle \\psi | H | \\psi \\rangle, $$\n",
    "Majorana edge correlation function\n",
    "$$ \\langle \\psi | i\\gamma_1\\gamma_{2n} | \\psi \\rangle $$\n",
    "(dunno where the $2n$ comes from here),\n",
    "Majorana site correlation function\n",
    "$$ \\langle \\psi | i\\gamma_1\\gamma_k | \\psi \\rangle, $$\n",
    "Majorana parity operator\n",
    "$$ \\langle \\mathcal{P} \\rangle = \\langle \\psi | \\prod_{k=1}^n \\left(1 - 2c_k^\\dagger c_k \\right) | \\psi\\rangle, $$\n",
    "and particle number operator\n",
    "$$ \\langle N \\rangle = \\langle \\psi | \\sum_{k=1}^n c_k^\\dagger c_k | \\psi \\rangle.$$\n",
    "\n",
    "It seems that these $|\\psi\\rangle$ states are created as these fermionic Guassian states (which are \"exactly-prepared states of the quadratic Hamiltonian\"). In this case let's define an operator $U_{\\rm fGs}$ that prepares these states from the initial state, i.e.\n",
    "$$\n",
    "|\\psi \\rangle = U_{\\rm fGs} |000\\rangle.\n",
    "$$$\n",
    "Anyway, let's write it all in Qiskit Nature."
   ]
  },
  {
   "cell_type": "code",
   "execution_count": 5,
   "id": "22509511",
   "metadata": {},
   "outputs": [],
   "source": [
    "hm = sum(FermionicOp(label) for label in ['IIN', 'INI', 'NII']) # also the number operator\n",
    "ht = -sum(FermionicOp(label) for label in ['I+-', 'I-+', '+I-', '-I+', '+-I', '-+I'])\n",
    "hD = sum(FermionicOp(label) for label in ['I++', 'I--', '+I+', '-I-', '++I', '--I'])\n",
    "\n",
    "# Majorana operators, either gamma = c^\\dagger + c or \n",
    "# c = i(c^\\dagger - c), should be opposite on opposite ends of Kitaev chain (?)\n",
    "gamma0 = sum(FermionicOp(label) for label in ['II+', 'II-'])\n",
    "gamma1 = sum(FermionicOp(label) for label in ['I+I', 'I-I'])\n",
    "gamma2 = sum(FermionicOp(label) for label in ['+II', '-II'])\n",
    "\n",
    "# and/or\n",
    "#gamma0 = 1j*(FermionicOp('II+') - FermionicOp('II-'))\n",
    "#gamma1 = 1j*(FermionicOp('I+I') - FermionicOp('I-I'))\n",
    "#gamma2 = 1j*(FermionicOp('+II') - FermionicOp('-II'))"
   ]
  },
  {
   "cell_type": "markdown",
   "id": "0cbc368b",
   "metadata": {},
   "source": [
    "### Transform Fermionic to Pauli Hamiltonian\n",
    "Bravyi-Kitaev and BKSuperFast are also built into Qiskit."
   ]
  },
  {
   "cell_type": "code",
   "execution_count": 6,
   "id": "7ae9ecb1",
   "metadata": {},
   "outputs": [],
   "source": [
    "mapper = JordanWignerMapper()\n",
    "converter = QubitConverter(mapper=mapper) # should not give 2-qubit reduction error\n",
    "\n",
    "hm_pauli = converter.convert(hm)\n",
    "ht_pauli = converter.convert(ht)\n",
    "hD_pauli = converter.convert(hD)\n",
    "\n",
    "g0_pauli = converter.convert(gamma0)\n",
    "g1_pauli = converter.convert(gamma1)\n",
    "g2_pauli = converter.convert(gamma2)"
   ]
  },
  {
   "cell_type": "code",
   "execution_count": 7,
   "id": "22a00e8f",
   "metadata": {},
   "outputs": [],
   "source": [
    "# parameters defined here due to incompatibility with Qiskit Nature\n",
    "mu = Parameter('$\\mu$')\n",
    "TT = Parameter('$T$')\n",
    "DD = Parameter('$\\Delta$')"
   ]
  },
  {
   "cell_type": "code",
   "execution_count": 8,
   "id": "0b47fada",
   "metadata": {},
   "outputs": [],
   "source": [
    "ham_pauli = (mu*hm_pauli) + (TT*ht_pauli)  + (DD*hD_pauli)\n",
    "#print(ham_pauli)"
   ]
  },
  {
   "cell_type": "code",
   "execution_count": 9,
   "id": "c62a9ff2",
   "metadata": {},
   "outputs": [],
   "source": [
    "tt = Parameter('$t$')\n",
    "U_ham = (tt*ham_pauli).exp_i()\n",
    "#print(U_ham)"
   ]
  },
  {
   "cell_type": "markdown",
   "id": "da90b8a2",
   "metadata": {},
   "source": [
    "The above shows how you would get a time-evolved operator using Qiskit Nature/Opflow. But actually we just need to prepare the initial states and measure expecation values."
   ]
  },
  {
   "cell_type": "markdown",
   "id": "bb865590",
   "metadata": {},
   "source": [
    "## Create Fermionic Gaussian States\n",
    "\n",
    "Kevin will show us how!"
   ]
  },
  {
   "cell_type": "markdown",
   "id": "1580ba8e",
   "metadata": {},
   "source": [
    "## Trotterize Unitary ~Evolution~ Preparation Operator\n",
    "\n",
    "Depending on whether we're doing this for an `opflow` simulator or running on a real circuit, we may want to Trotterize just the $U_{\\rm fGs}$ or perhaps the entire expectation value. Nick is not completely clear why this matters. Here's an example of how you would do a single second-order Trotter step and get a `CircuitOp`/`QuantumCircuit` out. Note the `PauliTrotterEvolution` method thinks the Hamiltonian is not composed entirely of `Pauli`s, even though it is. This has to do with a parsing issue that Kaelyn is working to fix."
   ]
  },
  {
   "cell_type": "code",
   "execution_count": 10,
   "id": "ae21066e",
   "metadata": {
    "scrolled": false
   },
   "outputs": [
    {
     "name": "stderr",
     "output_type": "stream",
     "text": [
      "Evolved Hamiltonian is not composed of only Paulis, converting to Pauli representation, which can be expensive.\n"
     ]
    }
   ],
   "source": [
    "trot_op = PauliTrotterEvolution(trotter_mode=Suzuki(order=2, reps=1)).convert(U_ham)\n",
    "#trot_op = PauliTrotterEvolution(trotter_mode=Suzuki(order=2, reps=1)).convert(U_fGs)\n",
    "trot_circ = trot_op.to_circuit()\n",
    "#trot_circ.draw(output='mpl', reverse_bits=True)"
   ]
  },
  {
   "cell_type": "markdown",
   "id": "64eae9d8",
   "metadata": {},
   "source": [
    "# Operator/Circuit Simulations\n",
    "\n",
    "Express the initial state preparation in terms of operators."
   ]
  },
  {
   "cell_type": "code",
   "execution_count": 12,
   "id": "1aac46a6",
   "metadata": {},
   "outputs": [
    {
     "ename": "AttributeError",
     "evalue": "'int' object has no attribute 'num_qubits'",
     "output_type": "error",
     "traceback": [
      "\u001b[0;31m---------------------------------------------------------------------------\u001b[0m",
      "\u001b[0;31mAttributeError\u001b[0m                            Traceback (most recent call last)",
      "\u001b[0;32m<ipython-input-12-1252060a9de0>\u001b[0m in \u001b[0;36m<module>\u001b[0;34m\u001b[0m\n\u001b[1;32m      6\u001b[0m \u001b[0msite_obsv\u001b[0m \u001b[0;34m=\u001b[0m \u001b[0mg0_pauli\u001b[0m\u001b[0;34m*\u001b[0m\u001b[0mg1_pauli\u001b[0m\u001b[0;34m\u001b[0m\u001b[0;34m\u001b[0m\u001b[0m\n\u001b[1;32m      7\u001b[0m \u001b[0mN_obsv\u001b[0m \u001b[0;34m=\u001b[0m \u001b[0mhm_pauli\u001b[0m\u001b[0;34m\u001b[0m\u001b[0;34m\u001b[0m\u001b[0m\n\u001b[0;32m----> 8\u001b[0;31m \u001b[0mP_obsv\u001b[0m \u001b[0;34m=\u001b[0m \u001b[0mI\u001b[0m\u001b[0;34m^\u001b[0m\u001b[0;36m3\u001b[0m \u001b[0;34m-\u001b[0m \u001b[0;36m2\u001b[0m\u001b[0;34m*\u001b[0m\u001b[0mN_obsv\u001b[0m\u001b[0;34m\u001b[0m\u001b[0;34m\u001b[0m\u001b[0m\n\u001b[0m\u001b[1;32m      9\u001b[0m \u001b[0mobsv\u001b[0m \u001b[0;34m=\u001b[0m \u001b[0mH_obsv\u001b[0m \u001b[0;31m# for example\u001b[0m\u001b[0;34m\u001b[0m\u001b[0;34m\u001b[0m\u001b[0m\n\u001b[1;32m     10\u001b[0m \u001b[0;34m\u001b[0m\u001b[0m\n",
      "\u001b[0;32m~/Documents/ibmQ/qiskit-terra/qiskit/opflow/mixins/star_algebra.py\u001b[0m in \u001b[0;36m__rsub__\u001b[0;34m(self, other)\u001b[0m\n\u001b[1;32m     77\u001b[0m \u001b[0;34m\u001b[0m\u001b[0m\n\u001b[1;32m     78\u001b[0m     \u001b[0;32mdef\u001b[0m \u001b[0m__rsub__\u001b[0m\u001b[0;34m(\u001b[0m\u001b[0mself\u001b[0m\u001b[0;34m,\u001b[0m \u001b[0mother\u001b[0m\u001b[0;34m)\u001b[0m\u001b[0;34m:\u001b[0m\u001b[0;34m\u001b[0m\u001b[0;34m\u001b[0m\u001b[0m\n\u001b[0;32m---> 79\u001b[0;31m         \u001b[0;32mreturn\u001b[0m \u001b[0mself\u001b[0m\u001b[0;34m.\u001b[0m\u001b[0mneg\u001b[0m\u001b[0;34m(\u001b[0m\u001b[0;34m)\u001b[0m\u001b[0;34m.\u001b[0m\u001b[0madd\u001b[0m\u001b[0;34m(\u001b[0m\u001b[0mother\u001b[0m\u001b[0;34m)\u001b[0m\u001b[0;34m\u001b[0m\u001b[0;34m\u001b[0m\u001b[0m\n\u001b[0m\u001b[1;32m     80\u001b[0m \u001b[0;34m\u001b[0m\u001b[0m\n\u001b[1;32m     81\u001b[0m     \u001b[0;31m# Operator multiplication\u001b[0m\u001b[0;34m\u001b[0m\u001b[0;34m\u001b[0m\u001b[0;34m\u001b[0m\u001b[0m\n",
      "\u001b[0;32m~/Documents/ibmQ/qiskit-terra/qiskit/opflow/primitive_ops/pauli_sum_op.py\u001b[0m in \u001b[0;36madd\u001b[0;34m(self, other)\u001b[0m\n\u001b[1;32m    113\u001b[0m \u001b[0;34m\u001b[0m\u001b[0m\n\u001b[1;32m    114\u001b[0m     \u001b[0;32mdef\u001b[0m \u001b[0madd\u001b[0m\u001b[0;34m(\u001b[0m\u001b[0mself\u001b[0m\u001b[0;34m,\u001b[0m \u001b[0mother\u001b[0m\u001b[0;34m:\u001b[0m \u001b[0mOperatorBase\u001b[0m\u001b[0;34m)\u001b[0m \u001b[0;34m->\u001b[0m \u001b[0mOperatorBase\u001b[0m\u001b[0;34m:\u001b[0m\u001b[0;34m\u001b[0m\u001b[0;34m\u001b[0m\u001b[0m\n\u001b[0;32m--> 115\u001b[0;31m         \u001b[0;32mif\u001b[0m \u001b[0;32mnot\u001b[0m \u001b[0mself\u001b[0m\u001b[0;34m.\u001b[0m\u001b[0mnum_qubits\u001b[0m \u001b[0;34m==\u001b[0m \u001b[0mother\u001b[0m\u001b[0;34m.\u001b[0m\u001b[0mnum_qubits\u001b[0m\u001b[0;34m:\u001b[0m\u001b[0;34m\u001b[0m\u001b[0;34m\u001b[0m\u001b[0m\n\u001b[0m\u001b[1;32m    116\u001b[0m             raise ValueError(\n\u001b[1;32m    117\u001b[0m                 \u001b[0;34mf\"Sum of operators with different numbers of qubits, {self.num_qubits} and \"\u001b[0m\u001b[0;34m\u001b[0m\u001b[0;34m\u001b[0m\u001b[0m\n",
      "\u001b[0;31mAttributeError\u001b[0m: 'int' object has no attribute 'num_qubits'"
     ]
    }
   ],
   "source": [
    "gnd_state = Zero^3 # |000>\n",
    "\n",
    "# operators for expectation values\n",
    "H_obsv = ham_pauli\n",
    "edge_obsv = g0_pauli*g2_pauli # ???\n",
    "site_obsv = g0_pauli*g1_pauli\n",
    "N_obsv = hm_pauli\n",
    "P_obsv = I^3 - 2*N_obsv\n",
    "obsv = H_obsv # for example\n",
    "\n",
    "# prepare state and calculate expectation operator\n",
    "prep_and_obsv = (U_fGs @ gnd_state).adjoint() @ obsv @ U_fGs @ gnd_state"
   ]
  },
  {
   "cell_type": "code",
   "execution_count": null,
   "id": "adf2633b",
   "metadata": {},
   "outputs": [],
   "source": [
    "# set model parameters\n",
    "param_bind = {\n",
    "    TT: -0.1,\n",
    "    DD: 1\n",
    "}\n",
    "\n",
    "# mu range\n",
    "mu_range = np.linspace(0, 3.1, 32)"
   ]
  },
  {
   "cell_type": "markdown",
   "id": "05a6eb68",
   "metadata": {},
   "source": [
    "## Opflow Exact Preparation\n",
    "\n",
    "Sometimes you can bind all the `mu`'s at once, sometimes you cannot. Nick does not know why."
   ]
  },
  {
   "cell_type": "code",
   "execution_count": null,
   "id": "6f1e5bf4",
   "metadata": {},
   "outputs": [],
   "source": [
    "diag_meas_op = PauliExpectation().convert(prep_and_obsv.bind_parameters(param_bind))\n",
    "\n",
    "exp_exact = []\n",
    "for mu_set in mu_range:\n",
    "    simple_exps = diag_meas_op.bind_parameters({mu: mu_set})\n",
    "    exp_exact.append(simple_ham_exps.eval())"
   ]
  },
  {
   "cell_type": "markdown",
   "id": "2d40960c",
   "metadata": {},
   "source": [
    "## Opflow Trotter Preparation"
   ]
  },
  {
   "cell_type": "code",
   "execution_count": null,
   "id": "57eadca1",
   "metadata": {},
   "outputs": [],
   "source": [
    "trot_steps = 5\n",
    "sim_trot_op = PauliTrotterEvolution(trotter_mode=Suzuki(order=2, reps=trot_steps)).convert(prep_and_obsv)"
   ]
  },
  {
   "cell_type": "code",
   "execution_count": null,
   "id": "6cef9a19",
   "metadata": {},
   "outputs": [],
   "source": [
    "diag_meas_op = PauliExpectation().convert(sim_trot_op.bind_parameters(param_bind))\n",
    "simple_ham_exps = diag_meas_op.bind_parameters({mu: list(mu_range)})\n",
    "exp_trots = simple_ham_exps.eval() # does this cast to something plottable easily?"
   ]
  },
  {
   "cell_type": "markdown",
   "id": "c405c9d1",
   "metadata": {},
   "source": [
    "## Statevector Preparation"
   ]
  },
  {
   "cell_type": "code",
   "execution_count": null,
   "id": "6c3396a5",
   "metadata": {},
   "outputs": [],
   "source": [
    "psi = qi.Statevector.from_instruction(trot_circ).data\n",
    "exp_op = obsv.bind_parameters(param_bind).to_matrix().data\n",
    "\n",
    "exp_sv = []\n",
    "for mu in mu_range:\n",
    "    exp_sv.append(np.dot(np.conjugate(psi), np.dot(exp_op, psi)))"
   ]
  },
  {
   "cell_type": "markdown",
   "id": "a779b940",
   "metadata": {},
   "source": [
    "## Calculate Expectations Exactly\n",
    "\n",
    "Use something fancy like QuTip or Dynamics?"
   ]
  },
  {
   "cell_type": "markdown",
   "id": "2b4f99fc",
   "metadata": {},
   "source": [
    "# Transpile Circuits to Quantum Backend"
   ]
  },
  {
   "cell_type": "markdown",
   "id": "19fbd768",
   "metadata": {},
   "source": [
    "## *Incredibly* useful notes on what we're doing\n",
    "\n",
    "Transpilation will take place \"by hand\" so that we can introduce the template optimization at the correct point. Each *pass* of the transpiler is classified as either an analysis or transformation pass. Template optimization consists of two passes:\n",
    "- `TemplateOptimization` is an analysis pass that adds the templates (similar to circuit equivalences), in this case specified by `rzx_templates()` \n",
    "- `RZXCalibrationBuilder` is a transformation pass that replaces $ZX(\\theta)$ gates with the locally-equivalent scaled Pulse gates\n",
    "\n",
    "The **order** of transpilation and where the backend information such as layout and native gate set are incredibly important and the following heuristics were able to get this to work:\n",
    "\n",
    "- The circuit must be transpiled to an `initial_layout` since the controlled-`RZGate` operations go across unconnected qubit pairs. At this point it seems best to leave the `basis_gate` set the same as that used in Trotterization.\n",
    "\n",
    "- Next the `TemplateOptimization` can be run (since the simplication will respect qubit layout), running on Nick's dev fork branch `template-param-expression` (Qiskit Terra [PR 6899](https://github.com/Qiskit/qiskit-terra/pull/6899)) will allow `Parameter`s to be passed through this step.\n",
    "\n",
    "- The `TemplateOptimization` will miss some patterns because the template parameters will conflict with finding a maximal match (Qiskit Terra [Issue 6974](https://github.com/Qiskit/qiskit-terra/issues/6974)). Here we run **Bespoke Passes** that combine consecutive gates with `Parameter`s (`RZGate`s in this case) and force $ZZ$-like patterns to match and be replated with the inverse from the template.\n",
    "\n",
    "- Heavily transpile (`optimization_level=3`) the circuit without reference to basis gates (this was necessary for some reason?)\n",
    "\n",
    "- Final bespoke combination of `RZGate`s.\n",
    "\n",
    "- If there are still patterns of CNOT-singles-CNOT that could be optimized, Nick has code to do this by force."
   ]
  },
  {
   "cell_type": "markdown",
   "id": "c23260ad",
   "metadata": {},
   "source": [
    "## Backend Information"
   ]
  },
  {
   "cell_type": "code",
   "execution_count": null,
   "id": "1943c05b",
   "metadata": {},
   "outputs": [],
   "source": [
    "plot_error_map(backend)"
   ]
  },
  {
   "cell_type": "code",
   "execution_count": null,
   "id": "a2825e99",
   "metadata": {},
   "outputs": [],
   "source": [
    "qr = QuantumRegister(backend_config.num_qubits, 'q')\n",
    "cr = ClassicalRegister(backend_config.num_qubits, 'c')\n",
    "initial_layout = [3, 1, 2] # favorite three qubits\n",
    "native_gates = ['rz', 'sx', 'rzx', 'x']"
   ]
  },
  {
   "cell_type": "code",
   "execution_count": null,
   "id": "f758aa59",
   "metadata": {},
   "outputs": [],
   "source": [
    "avg_gate_error = 0\n",
    "for ii in range(len(initial_layout)-1):\n",
    "    q0 = initial_layout[ii]\n",
    "    q1 = initial_layout[ii+1]\n",
    "    avg_gate_error += backend.properties().gate_property('cx')[(q0, q1)]['gate_error'][0]\n",
    "\n",
    "avg_gate_error /= len(initial_layout)-1\n",
    "print('Avg 2-qubit gate error is '+str(avg_gate_error))"
   ]
  },
  {
   "cell_type": "markdown",
   "id": "3539973d",
   "metadata": {},
   "source": [
    "## Template Optimization and Basic Transpilation"
   ]
  },
  {
   "cell_type": "code",
   "execution_count": null,
   "id": "58df8eb7",
   "metadata": {},
   "outputs": [],
   "source": [
    "trot_circ1 = transpile(trot_circ, optimization_level=0)\n",
    "\n",
    "if pulse_scaling:\n",
    "    pass_ = TemplateOptimization(**rzx_templates.rzx_templates()) \n",
    "    trot_circ2 = PassManager(pass_).run(trot_circ1)\n",
    "    trot_circ3 = transpile(trot_circ2, basis_gates=native_gates,\n",
    "                      backend=backend, initial_layout=initial_layout)\n",
    "else:\n",
    "    trot_circ3 = transpile(trot_circ1, basis_gates=['sx', 'rz', 'cx'],\n",
    "                      backend=backend, initial_layout=initial_layout)\n",
    "\n",
    "#trot_circ3.draw(output='mpl', idle_wires=False)"
   ]
  },
  {
   "cell_type": "markdown",
   "id": "0dfad98d",
   "metadata": {},
   "source": [
    "## Bespoke Transpilation Time\n",
    "\n",
    "So far, just doing one to combine consecutive gates. Does not look like modulo $2\\pi$ or forcet `CNOT-single-CNOT` is necessary here."
   ]
  },
  {
   "cell_type": "markdown",
   "id": "b2aa01f9",
   "metadata": {},
   "source": [
    "### Combine Consectutive Gates Pass"
   ]
  },
  {
   "cell_type": "code",
   "execution_count": null,
   "id": "dd76306c",
   "metadata": {},
   "outputs": [],
   "source": [
    "def combine_runs(dag: DAGNode, gate_str: str) -> DAGCircuit:\n",
    "    runs = dag.collect_runs([gate_str])\n",
    "    for run in runs:\n",
    "        partition = []\n",
    "        chunk = []\n",
    "        for ii in range(len(run)-1):\n",
    "            chunk.append(run[ii])\n",
    "\n",
    "            qargs0 = run[ii].qargs\n",
    "            qargs1 = run[ii+1].qargs\n",
    "\n",
    "            if qargs0 != qargs1:\n",
    "                partition.append(chunk)\n",
    "                chunk = []\n",
    "\n",
    "        chunk.append(run[-1])\n",
    "        partition.append(chunk)\n",
    "\n",
    "        # simplify each chunk in the partition\n",
    "        for chunk in partition:\n",
    "            theta = 0\n",
    "            for ii in range(len(chunk)):\n",
    "                theta += chunk[ii].op.params[0]\n",
    "\n",
    "            # set the first chunk to sum of params\n",
    "            chunk[0].op.params[0] = theta\n",
    "\n",
    "            # remove remaining chunks if any\n",
    "            if len(chunk) > 1:\n",
    "                for nn in chunk[1:]:\n",
    "                    dag.remove_op_node(nn)\n",
    "    return dag"
   ]
  },
  {
   "cell_type": "markdown",
   "id": "22a9eae1",
   "metadata": {},
   "source": [
    "### Run Bespoke Passes"
   ]
  },
  {
   "cell_type": "code",
   "execution_count": null,
   "id": "2b2a672e",
   "metadata": {
    "scrolled": true
   },
   "outputs": [],
   "source": [
    "dag = circuit_to_dag(trot_circ3)\n",
    "dag = combine_runs(dag, 'rz')\n",
    "dag = combine_runs(dag, 'rzx')\n",
    "trot_circ4 = dag_to_circuit(dag)\n",
    "trot_circ4.draw(output='mpl', idle_wires=False)"
   ]
  },
  {
   "cell_type": "markdown",
   "id": "f735ea43",
   "metadata": {},
   "source": [
    "## Game Plan\n",
    "The above circuit is as transpiled as possible without binding parameters and adding the calibrations for the `RZXGate`s. This will form the unit of the sweeps we run."
   ]
  },
  {
   "cell_type": "markdown",
   "id": "1de66345",
   "metadata": {},
   "source": [
    "# Build Experiment"
   ]
  },
  {
   "cell_type": "code",
   "execution_count": 13,
   "id": "b705fd9a",
   "metadata": {},
   "outputs": [
    {
     "ename": "NameError",
     "evalue": "name 'trot_circ4' is not defined",
     "output_type": "error",
     "traceback": [
      "\u001b[0;31m---------------------------------------------------------------------------\u001b[0m",
      "\u001b[0;31mNameError\u001b[0m                                 Traceback (most recent call last)",
      "\u001b[0;32m<ipython-input-13-b747536ee5ed>\u001b[0m in \u001b[0;36m<module>\u001b[0;34m\u001b[0m\n\u001b[0;32m----> 1\u001b[0;31m \u001b[0mtrot_unit\u001b[0m \u001b[0;34m=\u001b[0m \u001b[0mtrot_circ4\u001b[0m\u001b[0;34m\u001b[0m\u001b[0;34m\u001b[0m\u001b[0m\n\u001b[0m\u001b[1;32m      2\u001b[0m \u001b[0;34m\u001b[0m\u001b[0m\n\u001b[1;32m      3\u001b[0m \u001b[0mexp_str\u001b[0m \u001b[0;34m=\u001b[0m \u001b[0;34m'my_exp_string'\u001b[0m\u001b[0;34m\u001b[0m\u001b[0;34m\u001b[0m\u001b[0m\n",
      "\u001b[0;31mNameError\u001b[0m: name 'trot_circ4' is not defined"
     ]
    }
   ],
   "source": [
    "trot_unit = trot_circ4\n",
    "\n",
    "exp_str = 'my_exp_string' # like 'mu_sweep'"
   ]
  },
  {
   "cell_type": "markdown",
   "id": "2f3b2ba1",
   "metadata": {},
   "source": [
    "## Set Model Hamiltonian Parameters"
   ]
  },
  {
   "cell_type": "markdown",
   "id": "bf4a685c",
   "metadata": {},
   "source": [
    "### Bind Parameters and Append Circuits"
   ]
  },
  {
   "cell_type": "code",
   "execution_count": null,
   "id": "3e7897a3",
   "metadata": {
    "scrolled": true
   },
   "outputs": [],
   "source": [
    "if exp_str == 'mu_sweep':\n",
    "    mu_circs = []\n",
    "    \n",
    "    # bind remaining parameters\n",
    "    for mu_set in mu_range:\n",
    "        param_bind[mu] = mu_set\n",
    "        mu_circs.append(trot_circ4.bind_parameters(param_bind))\n",
    "        # compose circuits as necessary"
   ]
  },
  {
   "cell_type": "markdown",
   "id": "40761f92",
   "metadata": {},
   "source": [
    "## Final Transpilation Steps\n",
    "\n",
    "Nick thinks this should probably be simplified, it takes too much time and we probably just need basic gate simplification parts."
   ]
  },
  {
   "cell_type": "code",
   "execution_count": null,
   "id": "c1b9591c",
   "metadata": {},
   "outputs": [],
   "source": [
    "if pulse_scaling:\n",
    "    mu_circs_sca_t = transpile(mu_circs, backend, basis_gates=native_gates)\n",
    "    \n",
    "mu_circs_dig_t = transpile(mu_circs, backend)"
   ]
  },
  {
   "cell_type": "code",
   "execution_count": null,
   "id": "dc4ddfe1",
   "metadata": {},
   "outputs": [],
   "source": [
    "if pulse_scaling:\n",
    "    pass_ = RZXCalibrationBuilder(backend)\n",
    "    mu_circs_sca_t1 = PassManager(pass_).run(mu_circs_sca_t)"
   ]
  },
  {
   "cell_type": "markdown",
   "id": "6897a4f7",
   "metadata": {},
   "source": [
    "## Dynamical Decoupling\n",
    "\n",
    "Following [this tutorial](https://qiskit.org/documentation/stubs/qiskit.transpiler.passes.DynamicalDecoupling.html), we can automatically add dynamical decoupling sequences. Currently this seems a bit limited to \"native\" Qiskit gates, and the duration information must be pulled from the `inst_sched_map`. Nick has raised this as Qiskit Terra [Issue 7400](https://github.com/Qiskit/qiskit-terra/issues/7400)."
   ]
  },
  {
   "cell_type": "markdown",
   "id": "2269caf1",
   "metadata": {},
   "source": [
    "## Retrieve Gate Durations"
   ]
  },
  {
   "cell_type": "code",
   "execution_count": null,
   "id": "00f848b5",
   "metadata": {},
   "outputs": [],
   "source": [
    "if dynamical_decoupling:\n",
    "    inst_durs = []\n",
    "\n",
    "    # single qubit gates\n",
    "    for qubit in range(backend_config.num_qubits):\n",
    "        for inst_str in inst_sched_map.qubit_instructions(qubits=[qubit]):\n",
    "            inst = inst_sched_map.get(inst_str, qubits=[qubit])\n",
    "            inst_durs.append((inst_str, qubit, inst.duration))\n",
    "            if inst_str == 'x':\n",
    "                inst_durs.append(('y', qubit, inst.duration))\n",
    "\n",
    "    # two qubit gates\n",
    "    for qc in range(backend_config.num_qubits):\n",
    "        for qt in range(backend_config.num_qubits):\n",
    "            for inst_str in inst_sched_map.qubit_instructions(qubits=[qc, qt]):\n",
    "                inst = inst_sched_map.get(inst_str, qubits=[qc, qt])\n",
    "                inst_durs.append((inst_str, [qc, qt], inst.duration))\n",
    "\n",
    "    durations = InstructionDurations(inst_durs)"
   ]
  },
  {
   "cell_type": "code",
   "execution_count": null,
   "id": "c2f98c79",
   "metadata": {},
   "outputs": [],
   "source": [
    "#res_circ_nodd = transpile(res_circ_scaled_trans1, backend, scheduling_method='alap')"
   ]
  },
  {
   "cell_type": "code",
   "execution_count": null,
   "id": "04a3b8d4",
   "metadata": {},
   "outputs": [],
   "source": [
    "if dynamical_decoupling:\n",
    "    # balanced X-X sequence on all qubits\n",
    "    dd_X2_sequence = [XGate(), XGate()]\n",
    "    pm = PassManager([ALAPSchedule(durations),\n",
    "                      DynamicalDecoupling(durations, dd_X2_sequence)])\n",
    "    mu_circs_ddx2 = pm.run(mu_circs_sca_t1)"
   ]
  },
  {
   "cell_type": "markdown",
   "id": "25eb3710",
   "metadata": {},
   "source": [
    "Petar actually does an `Xp`-`Xm` sequence that is described at the end of Section IV of the [QV 64 paper](http://arxiv.org/abs/2008.08571), which is nominally the same but actually different as far as pulses are concerned."
   ]
  },
  {
   "cell_type": "code",
   "execution_count": null,
   "id": "7074e796",
   "metadata": {},
   "outputs": [],
   "source": [
    "if dynamical_decoupling:\n",
    "    dd_XY4_sequence = [XGate(), YGate(), XGate(), YGate()]\n",
    "    pm = PassManager([ALAPSchedule(durations),\n",
    "                      DynamicalDecoupling(durations, dd_XY4_sequence)])\n",
    "    mu_circs_ddxy4 = pm.run(mu_circs_sca_t1)"
   ]
  },
  {
   "cell_type": "code",
   "execution_count": null,
   "id": "cf6a982b",
   "metadata": {},
   "outputs": [],
   "source": [
    "if dynamical_decoupling:\n",
    "    # for some reason dd sequence does not seem to be inserted until after entangling gate,\n",
    "    # although end looks fine (should probably raise Terra issue)\n",
    "    start_time = 0 #880000\n",
    "    time_window = 30000\n",
    "    time_range=[start_time, start_time+time_window]\n",
    "    timeline_drawer(mu_circs_ddxy4[-1], time_range=time_range)"
   ]
  },
  {
   "cell_type": "markdown",
   "id": "b8b4ec81",
   "metadata": {},
   "source": [
    "### Add Calibrations for Missing Gates\n",
    "\n",
    "The`YGate` is not a basis gate of our backend (unlike 'x'). We can build a pulse schedule from 'x' and add it to the circuits."
   ]
  },
  {
   "cell_type": "code",
   "execution_count": null,
   "id": "98e9098f",
   "metadata": {},
   "outputs": [],
   "source": [
    "if dynamical_decoupling:\n",
    "    for qubit in range(backend_config.num_qubits):\n",
    "        with pulse.build('y gate for qubit '+str(qubit)) as sched:\n",
    "            with pulse.phase_offset(np.pi/2, DriveChannel(qubit)):\n",
    "                x_gate = inst_sched_map.get('x', qubits=[qubit])\n",
    "                pulse.call(x_gate)\n",
    "\n",
    "            for circ in mu_circs_ddxy4:\n",
    "                circ.add_calibration('y', [qubit], sched)"
   ]
  },
  {
   "cell_type": "code",
   "execution_count": null,
   "id": "76f0f265",
   "metadata": {},
   "outputs": [],
   "source": [
    "# okay this does not work for some reason, but confirmed it on a simpler circuit\n",
    "#schedule(mu_circs_ddxy4[-1], backend).draw(time_range=time_range)"
   ]
  },
  {
   "cell_type": "markdown",
   "id": "bdfde92b",
   "metadata": {},
   "source": [
    "## Compare digital and scaled circuits"
   ]
  },
  {
   "cell_type": "code",
   "execution_count": null,
   "id": "bf13a675",
   "metadata": {},
   "outputs": [],
   "source": [
    "if pulse_scaling:\n",
    "    circ_num = -1\n",
    "    scaled_sched = schedule(mu_circs_sca_t1[circ_num], backend)\n",
    "    basis_sched = schedule(mu_circs_dig_t[circ_num], backend)"
   ]
  },
  {
   "cell_type": "markdown",
   "id": "2bb10207",
   "metadata": {},
   "source": [
    "### Count Operations"
   ]
  },
  {
   "cell_type": "code",
   "execution_count": null,
   "id": "fba2522b",
   "metadata": {},
   "outputs": [],
   "source": [
    "if pulse_scaling:\n",
    "    mu_circs_sca_t1[circ_num].count_ops()"
   ]
  },
  {
   "cell_type": "code",
   "execution_count": null,
   "id": "a81d1215",
   "metadata": {},
   "outputs": [],
   "source": [
    "mu_circs_dig_t[circ_num].count_ops()"
   ]
  },
  {
   "cell_type": "code",
   "execution_count": null,
   "id": "9774ad4d",
   "metadata": {},
   "outputs": [],
   "source": [
    "if pulse_scaling:\n",
    "    dag = circuit_to_dag(mu_circs_sca_t1[circ_num])\n",
    "    rzx_runs = dag.collect_runs(['rzx'])\n",
    "\n",
    "    est_fid_rzx = 1\n",
    "    for rzx_run in rzx_runs:\n",
    "        angle = rzx_run[0].op.params[0]\n",
    "        this_rzx_error = (abs(float(angle))/(np.pi/2))*avg_gate_error\n",
    "        est_fid_rzx *= (1-this_rzx_error)\n",
    "\n",
    "    print('Scaled Circuit estimated fidelity is %2.f%%' % (est_fid_rzx*100))"
   ]
  },
  {
   "cell_type": "code",
   "execution_count": null,
   "id": "030ac73a",
   "metadata": {},
   "outputs": [],
   "source": [
    "num_cx = mu_circs_dig_t[circ_num].count_ops()['cx']\n",
    "est_fid_dig = (1-avg_gate_error)**num_cx\n",
    "print('Digital Circuit estimated fidelity is %2.f%%' % (est_fid_dig*100))"
   ]
  },
  {
   "cell_type": "markdown",
   "id": "da4361d1",
   "metadata": {},
   "source": [
    "### Look at Resulting Schedules"
   ]
  },
  {
   "cell_type": "code",
   "execution_count": null,
   "id": "c3ac785a",
   "metadata": {},
   "outputs": [],
   "source": [
    "if pulse_scaling:\n",
    "    print('Scaled schedule takes '+str(scaled_sched.duration)+'dt')\n",
    "    \n",
    "print('Digital schedule takes '+str(basis_sched.duration)+'dt')"
   ]
  },
  {
   "cell_type": "code",
   "execution_count": null,
   "id": "b87bef63",
   "metadata": {},
   "outputs": [],
   "source": [
    "time_range=[0,4000]\n",
    "if pulse_scaling:\n",
    "    scaled_sched.draw(time_range=time_range)"
   ]
  },
  {
   "cell_type": "code",
   "execution_count": null,
   "id": "3399dc07",
   "metadata": {},
   "outputs": [],
   "source": [
    "basis_sched.draw(time_range=time_range)"
   ]
  },
  {
   "cell_type": "markdown",
   "id": "dfcc96dc",
   "metadata": {},
   "source": [
    "Question: How is the duration being calculated when the parameters for trans_circ_dig have not been set? \n",
    "\n",
    "NTB: I don't know, just noticed this as well in another notebook. My initial guess is that 1q-gates have 2 microwave pulses and the RZX are calculated to have 2 CNOTs, but this needs to be confirmed."
   ]
  },
  {
   "cell_type": "markdown",
   "id": "58b940c8",
   "metadata": {},
   "source": [
    "# Run on Quantum Hardware"
   ]
  },
  {
   "cell_type": "code",
   "execution_count": null,
   "id": "91309a03",
   "metadata": {
    "scrolled": true
   },
   "outputs": [],
   "source": [
    "from qiskit.tools.monitor import job_monitor\n",
    "\n",
    "if run_experiment:\n",
    "    # run the job on a real backend\n",
    "    if dynamical_decoupling:\n",
    "        job = backend.run(mu_circs_sca_t1 + mu_circs_ddx2 + mu_circs_ddxy4, \n",
    "                          job_name='mzm generation', meas_level=2, shots=10000) \n",
    "    else:\n",
    "        job = backend.run(mu_circs_sca_t1, job_name='mzm generation', meas_level=2, shots=10000) \n",
    "    \n",
    "    print(job.job_id())\n",
    "    job_monitor(job)"
   ]
  },
  {
   "cell_type": "markdown",
   "id": "9e4b0ed0",
   "metadata": {},
   "source": [
    "## Or Retrieve from Previous Run"
   ]
  },
  {
   "cell_type": "code",
   "execution_count": null,
   "id": "75b944c4",
   "metadata": {},
   "outputs": [],
   "source": [
    "if not run_experiment:\n",
    "    job1 = backend.retrieve_job('') # mu_sweep\n",
    "    job = job1"
   ]
  },
  {
   "cell_type": "code",
   "execution_count": null,
   "id": "767c0834",
   "metadata": {},
   "outputs": [],
   "source": [
    "Result = job.result().get_counts()"
   ]
  },
  {
   "cell_type": "markdown",
   "id": "52cf2902",
   "metadata": {},
   "source": [
    "# Analyze Results"
   ]
  },
  {
   "cell_type": "markdown",
   "id": "bc99ae66",
   "metadata": {},
   "source": [
    "## Retrieve Results from Actual Job"
   ]
  },
  {
   "cell_type": "markdown",
   "id": "c4c4adf4",
   "metadata": {},
   "source": [
    "## Plot Results and Sims\n",
    "\n",
    "This nominally should work without having the experimental data as well (i.e., for checks)."
   ]
  },
  {
   "cell_type": "markdown",
   "id": "174961e2",
   "metadata": {},
   "source": [
    "## Save Results"
   ]
  },
  {
   "cell_type": "markdown",
   "id": "6d71a024",
   "metadata": {},
   "source": [
    "# Qiskit Version Table"
   ]
  },
  {
   "cell_type": "code",
   "execution_count": null,
   "id": "b53948aa",
   "metadata": {},
   "outputs": [],
   "source": [
    "import qiskit.tools.jupyter\n",
    "%qiskit_version_table"
   ]
  },
  {
   "cell_type": "code",
   "execution_count": null,
   "id": "5f4422d7",
   "metadata": {},
   "outputs": [],
   "source": []
  }
 ],
 "metadata": {
  "kernelspec": {
   "display_name": "qiskit (dev)",
   "language": "python",
   "name": "qiskit-dev"
  },
  "language_info": {
   "codemirror_mode": {
    "name": "ipython",
    "version": 3
   },
   "file_extension": ".py",
   "mimetype": "text/x-python",
   "name": "python",
   "nbconvert_exporter": "python",
   "pygments_lexer": "ipython3",
   "version": "3.9.4"
  },
  "toc": {
   "base_numbering": 1,
   "nav_menu": {},
   "number_sections": true,
   "sideBar": true,
   "skip_h1_title": false,
   "title_cell": "Table of Contents",
   "title_sidebar": "Contents",
   "toc_cell": false,
   "toc_position": {
    "height": "calc(100% - 180px)",
    "left": "10px",
    "top": "150px",
    "width": "269.375px"
   },
   "toc_section_display": true,
   "toc_window_display": true
  }
 },
 "nbformat": 4,
 "nbformat_minor": 5
}
